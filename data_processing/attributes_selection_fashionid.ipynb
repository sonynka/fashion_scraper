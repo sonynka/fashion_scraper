{
 "cells": [
  {
   "cell_type": "code",
   "execution_count": 1,
   "metadata": {
    "collapsed": true,
    "scrolled": true
   },
   "outputs": [],
   "source": [
    "import pandas as pd\n",
    "import os\n",
    "import numpy as np"
   ]
  },
  {
   "cell_type": "code",
   "execution_count": 2,
   "metadata": {
    "collapsed": true
   },
   "outputs": [],
   "source": [
    "pd.set_option('display.max_colwidth', 1000)"
   ]
  },
  {
   "cell_type": "markdown",
   "metadata": {},
   "source": [
    "# FashionID Dataset"
   ]
  },
  {
   "cell_type": "markdown",
   "metadata": {
    "collapsed": true
   },
   "source": [
    "## Attributes Analysis\n",
    "Loads the data.csv file and prints the most common attributes (tags). Then creates columns for the selected attributes and converts them to dummy variables."
   ]
  },
  {
   "cell_type": "code",
   "execution_count": 3,
   "metadata": {
    "collapsed": true
   },
   "outputs": [],
   "source": [
    "data_path = '../../../data/fashionid'\n",
    "df = pd.read_csv(os.path.join(data_path, 'data.csv'), sep=';', encoding='utf-8')"
   ]
  },
  {
   "cell_type": "code",
   "execution_count": 4,
   "metadata": {},
   "outputs": [
    {
     "data": {
      "text/html": [
       "<div>\n",
       "<style>\n",
       "    .dataframe thead tr:only-child th {\n",
       "        text-align: right;\n",
       "    }\n",
       "\n",
       "    .dataframe thead th {\n",
       "        text-align: left;\n",
       "    }\n",
       "\n",
       "    .dataframe tbody tr th {\n",
       "        vertical-align: top;\n",
       "    }\n",
       "</style>\n",
       "<table border=\"1\" class=\"dataframe\">\n",
       "  <thead>\n",
       "    <tr style=\"text-align: right;\">\n",
       "      <th></th>\n",
       "      <th>attributes</th>\n",
       "      <th>category</th>\n",
       "      <th>color</th>\n",
       "      <th>img_path</th>\n",
       "      <th>img_url</th>\n",
       "      <th>product_name</th>\n",
       "    </tr>\n",
       "  </thead>\n",
       "  <tbody>\n",
       "    <tr>\n",
       "      <th>count</th>\n",
       "      <td>12295</td>\n",
       "      <td>12295</td>\n",
       "      <td>12295</td>\n",
       "      <td>12295</td>\n",
       "      <td>12295</td>\n",
       "      <td>12295</td>\n",
       "    </tr>\n",
       "    <tr>\n",
       "      <th>unique</th>\n",
       "      <td>11085</td>\n",
       "      <td>10</td>\n",
       "      <td>8</td>\n",
       "      <td>12295</td>\n",
       "      <td>11085</td>\n",
       "      <td>10713</td>\n",
       "    </tr>\n",
       "    <tr>\n",
       "      <th>top</th>\n",
       "      <td>Damen Dirndlbluse von Krüger Dirndl,Materialmischung mit Baumwoll-Anteil,Kurzer Schnitt,Tiefer V-Ausschnitt mit Rüschenbesatz und Zierborte,Kurze, tief angesetzte Knopfleiste,1/2-Arm,Elastischer Saum,Rückenlänge bei Größe 36: 35 cm,Farbe Weiß,Artikelnummer: 9696045</td>\n",
       "      <td>kleider</td>\n",
       "      <td>blue</td>\n",
       "      <td>hosen/9793597.jpg</td>\n",
       "      <td>https://img.fidcdn.net/r17/product/krueger-dirndl-dirndlbluse-mit-rueschen-und-zierborten-weiss_9696045,d2c0fb.jpg</td>\n",
       "      <td>Montego Kleid mit floralem Muster - Marineblau</td>\n",
       "    </tr>\n",
       "    <tr>\n",
       "      <th>freq</th>\n",
       "      <td>3</td>\n",
       "      <td>3194</td>\n",
       "      <td>3971</td>\n",
       "      <td>1</td>\n",
       "      <td>3</td>\n",
       "      <td>7</td>\n",
       "    </tr>\n",
       "  </tbody>\n",
       "</table>\n",
       "</div>"
      ],
      "text/plain": [
       "                                                                                                                                                                                                                                                                       attributes  \\\n",
       "count                                                                                                                                                                                                                                                                       12295   \n",
       "unique                                                                                                                                                                                                                                                                      11085   \n",
       "top     Damen Dirndlbluse von Krüger Dirndl,Materialmischung mit Baumwoll-Anteil,Kurzer Schnitt,Tiefer V-Ausschnitt mit Rüschenbesatz und Zierborte,Kurze, tief angesetzte Knopfleiste,1/2-Arm,Elastischer Saum,Rückenlänge bei Größe 36: 35 cm,Farbe Weiß,Artikelnummer: 9696045   \n",
       "freq                                                                                                                                                                                                                                                                            3   \n",
       "\n",
       "       category  color           img_path  \\\n",
       "count     12295  12295              12295   \n",
       "unique       10      8              12295   \n",
       "top     kleider   blue  hosen/9793597.jpg   \n",
       "freq       3194   3971                  1   \n",
       "\n",
       "                                                                                                                   img_url  \\\n",
       "count                                                                                                                12295   \n",
       "unique                                                                                                               11085   \n",
       "top     https://img.fidcdn.net/r17/product/krueger-dirndl-dirndlbluse-mit-rueschen-und-zierborten-weiss_9696045,d2c0fb.jpg   \n",
       "freq                                                                                                                     3   \n",
       "\n",
       "                                          product_name  \n",
       "count                                            12295  \n",
       "unique                                           10713  \n",
       "top     Montego Kleid mit floralem Muster - Marineblau  \n",
       "freq                                                 7  "
      ]
     },
     "execution_count": 4,
     "metadata": {},
     "output_type": "execute_result"
    }
   ],
   "source": [
    "df.describe()"
   ]
  },
  {
   "cell_type": "code",
   "execution_count": 5,
   "metadata": {
    "collapsed": true
   },
   "outputs": [],
   "source": [
    "df['tags'] = df['attributes'].apply(lambda x: x.lower().split(','))"
   ]
  },
  {
   "cell_type": "markdown",
   "metadata": {},
   "source": [
    "Get count for each of the tags, if it appears in the attributes list of any of the images."
   ]
  },
  {
   "cell_type": "code",
   "execution_count": 6,
   "metadata": {
    "collapsed": true
   },
   "outputs": [],
   "source": [
    "tag_count = {}\n",
    "def count_tags(tags):\n",
    "    for tag in tags:\n",
    "        t = tag.lower()\n",
    "        if t in tag_count:\n",
    "            tag_count[t] += 1\n",
    "        else:\n",
    "            tag_count[t] = 1\n",
    "            \n",
    "a = df['tags'].apply(count_tags)"
   ]
  },
  {
   "cell_type": "markdown",
   "metadata": {},
   "source": [
    "Sort by the most used tags and print"
   ]
  },
  {
   "cell_type": "code",
   "execution_count": 7,
   "metadata": {
    "collapsed": true
   },
   "outputs": [],
   "source": [
    "tag_df = pd.Series(tag_count).reset_index().rename(columns={'index': 'tag', 0: 'count'})\n",
    "num_imgs = df.shape[0]\n",
    "tag_df['ratio'] = (pd.to_numeric(tag_df['count']) / num_imgs * 100).round(2)\n",
    "tag_df = tag_df[tag_df['ratio'] > 1]\n",
    "tag_df = tag_df.sort_values('ratio', ascending=False)"
   ]
  },
  {
   "cell_type": "code",
   "execution_count": 8,
   "metadata": {},
   "outputs": [
    {
     "data": {
      "text/plain": [
       "21512                                      rundhalsausschnitt\n",
       "18971                                        lockerer schnitt\n",
       "23643                                     taillierter schnitt\n",
       "16181                                           farbe schwarz\n",
       "21347                                         reine baumwolle\n",
       "492                                                      5 cm\n",
       "23919         unser model ist 177 cm groß und trägt größe 36.\n",
       "16193                                              farbe weiß\n",
       "16131                                        farbe marineblau\n",
       "18716                              leicht taillierter schnitt\n",
       "18047                               knopf- und reißverschluss\n",
       "21359                                           reine viskose\n",
       "12130                                   baumwoll-elasthan-mix\n",
       "16070                                        farbe dunkelblau\n",
       "12186                     baumwollmischung mit stretch-anteil\n",
       "23404                                          streifenmuster\n",
       "23946                            unser model ist 177 cm groß.\n",
       "20849                    nahtreißverschluss auf der rückseite\n",
       "12076                                   ausgestellter schnitt\n",
       "16629                                         gerader schnitt\n",
       "25243                                überschnittene schultern\n",
       "16151                                          farbe offwhite\n",
       "12155                                        baumwollmischung\n",
       "16550    geknöpfter schlüssellochausschnitt auf der rückseite\n",
       "24815                                    zwei eingrifftaschen\n",
       "15498                                       dreiviertel-ärmel\n",
       "16436                                         florales muster\n",
       "24058                                            v-ausschnitt\n",
       "662                                            allover-muster\n",
       "18383                                             kurze ärmel\n",
       "16117                                             farbe jeans\n",
       "18306                                                   kurze\n",
       "21376                        reißverschluss auf der rückseite\n",
       "25003                                                ärmellos\n",
       "23940          unser model ist 177 cm groß und trägt größe m.\n",
       "21157                                               plus size\n",
       "16697                            gerippter rundhalsausschnitt\n",
       "12836                                                 chiffon\n",
       "11968                                  ausgestellter rockteil\n",
       "12327                                 blickdichtes unterkleid\n",
       "18053                                             knopfleiste\n",
       "18793                                       leichtes material\n",
       "23875                                            umlegekragen\n",
       "18529                                             lange ärmel\n",
       "16170                                               farbe rot\n",
       "18478                                             label-patch\n",
       "23375                                            stone washed\n",
       "23231                                              stehkragen\n",
       "16636                                     gerippte abschlüsse\n",
       "16023                                 eng anliegender schnitt\n",
       "Name: tag, dtype: object"
      ]
     },
     "execution_count": 8,
     "metadata": {},
     "output_type": "execute_result"
    }
   ],
   "source": [
    "tag_df['tag'].head(50)"
   ]
  },
  {
   "cell_type": "markdown",
   "metadata": {},
   "source": [
    "## Select useful attributes\n",
    "Find attributes that are used a lot and can be useful for the application.\n",
    "Create a special column in the dataframe with each of the useful tags."
   ]
  },
  {
   "cell_type": "code",
   "execution_count": 9,
   "metadata": {
    "collapsed": true
   },
   "outputs": [],
   "source": [
    "def create_tag_column(df, tag_list, column_name):\n",
    "    \"\"\" \n",
    "        Create a new column in the given dataframe with the specified column name. \n",
    "        The column holds the tag if the tag is in the tag_list otherwise it holds np.nan.\n",
    "    \"\"\"\n",
    "    \n",
    "    df[column_name] = df['tags'].apply(lambda x: [s for s in x if s in tag_list])\n",
    "    df[column_name] = [x[0].split(':')[-1].strip() if len(x) > 0 else np.nan for x in df[column_name]]\n",
    "    \n",
    "    return df"
   ]
  },
  {
   "cell_type": "markdown",
   "metadata": {},
   "source": [
    "### Schnitt"
   ]
  },
  {
   "cell_type": "code",
   "execution_count": 10,
   "metadata": {},
   "outputs": [
    {
     "data": {
      "text/html": [
       "<div>\n",
       "<style>\n",
       "    .dataframe thead tr:only-child th {\n",
       "        text-align: right;\n",
       "    }\n",
       "\n",
       "    .dataframe thead th {\n",
       "        text-align: left;\n",
       "    }\n",
       "\n",
       "    .dataframe tbody tr th {\n",
       "        vertical-align: top;\n",
       "    }\n",
       "</style>\n",
       "<table border=\"1\" class=\"dataframe\">\n",
       "  <thead>\n",
       "    <tr style=\"text-align: right;\">\n",
       "      <th></th>\n",
       "      <th>tag</th>\n",
       "      <th>count</th>\n",
       "      <th>ratio</th>\n",
       "    </tr>\n",
       "  </thead>\n",
       "  <tbody>\n",
       "    <tr>\n",
       "      <th>18971</th>\n",
       "      <td>lockerer schnitt</td>\n",
       "      <td>2649</td>\n",
       "      <td>21.55</td>\n",
       "    </tr>\n",
       "    <tr>\n",
       "      <th>23643</th>\n",
       "      <td>taillierter schnitt</td>\n",
       "      <td>2314</td>\n",
       "      <td>18.82</td>\n",
       "    </tr>\n",
       "    <tr>\n",
       "      <th>18716</th>\n",
       "      <td>leicht taillierter schnitt</td>\n",
       "      <td>1147</td>\n",
       "      <td>9.33</td>\n",
       "    </tr>\n",
       "    <tr>\n",
       "      <th>12076</th>\n",
       "      <td>ausgestellter schnitt</td>\n",
       "      <td>750</td>\n",
       "      <td>6.10</td>\n",
       "    </tr>\n",
       "    <tr>\n",
       "      <th>16629</th>\n",
       "      <td>gerader schnitt</td>\n",
       "      <td>738</td>\n",
       "      <td>6.00</td>\n",
       "    </tr>\n",
       "    <tr>\n",
       "      <th>16023</th>\n",
       "      <td>eng anliegender schnitt</td>\n",
       "      <td>366</td>\n",
       "      <td>2.98</td>\n",
       "    </tr>\n",
       "    <tr>\n",
       "      <th>421</th>\n",
       "      <td>ärmelloser schnitt</td>\n",
       "      <td>213</td>\n",
       "      <td>1.73</td>\n",
       "    </tr>\n",
       "    <tr>\n",
       "      <th>18673</th>\n",
       "      <td>leicht ausgestellter schnitt</td>\n",
       "      <td>172</td>\n",
       "      <td>1.40</td>\n",
       "    </tr>\n",
       "    <tr>\n",
       "      <th>269</th>\n",
       "      <td>leicht taillierter schnitt</td>\n",
       "      <td>171</td>\n",
       "      <td>1.39</td>\n",
       "    </tr>\n",
       "    <tr>\n",
       "      <th>18465</th>\n",
       "      <td>körperbetonter schnitt</td>\n",
       "      <td>136</td>\n",
       "      <td>1.11</td>\n",
       "    </tr>\n",
       "  </tbody>\n",
       "</table>\n",
       "</div>"
      ],
      "text/plain": [
       "                                tag  count  ratio\n",
       "18971              lockerer schnitt   2649  21.55\n",
       "23643           taillierter schnitt   2314  18.82\n",
       "18716    leicht taillierter schnitt   1147   9.33\n",
       "12076         ausgestellter schnitt    750   6.10\n",
       "16629               gerader schnitt    738   6.00\n",
       "16023       eng anliegender schnitt    366   2.98\n",
       "421              ärmelloser schnitt    213   1.73\n",
       "18673  leicht ausgestellter schnitt    172   1.40\n",
       "269      leicht taillierter schnitt    171   1.39\n",
       "18465        körperbetonter schnitt    136   1.11"
      ]
     },
     "execution_count": 10,
     "metadata": {},
     "output_type": "execute_result"
    }
   ],
   "source": [
    "tag_df[tag_df['tag'].str.contains(' schnitt')]"
   ]
  },
  {
   "cell_type": "code",
   "execution_count": 11,
   "metadata": {
    "collapsed": true
   },
   "outputs": [],
   "source": [
    "schnitt_list = tag_df[tag_df['tag'].str.contains(' schnitt')]['tag'].tolist()\n",
    "df = create_tag_column(df, schnitt_list, 'passform')"
   ]
  },
  {
   "cell_type": "code",
   "execution_count": 12,
   "metadata": {},
   "outputs": [
    {
     "data": {
      "text/plain": [
       "array(['ärmelloser schnitt', nan, 'ausgestellter schnitt',\n",
       "       'eng anliegender schnitt', 'taillierter schnitt',\n",
       "       'leicht ausgestellter schnitt', 'leicht taillierter schnitt',\n",
       "       'körperbetonter schnitt', 'lockerer schnitt', 'gerader schnitt'], dtype=object)"
      ]
     },
     "execution_count": 12,
     "metadata": {},
     "output_type": "execute_result"
    }
   ],
   "source": [
    "df['passform'].unique()"
   ]
  },
  {
   "cell_type": "code",
   "execution_count": 13,
   "metadata": {
    "collapsed": true
   },
   "outputs": [],
   "source": [
    "fit_loose = ['lockerer schnitt']\n",
    "fit_normal = ['gerader schnitt', 'taillierter schnitt', 'ausgestellter schnitt']\n",
    "fit_tight = ['eng anliegender schnitt', 'leicht ausgestellter schnitt', 'leicht taillierter schnitt', \n",
    "             'körperbetonter schnitt']\n",
    "df['passform'] = ['loose' if x in fit_loose else 'normal' if x in fit_normal\n",
    "                 else 'tight' if x in fit_tight else np.nan for x in df['passform']]"
   ]
  },
  {
   "cell_type": "markdown",
   "metadata": {},
   "source": [
    "### Ausschnitt"
   ]
  },
  {
   "cell_type": "code",
   "execution_count": 14,
   "metadata": {},
   "outputs": [
    {
     "data": {
      "text/html": [
       "<div>\n",
       "<style>\n",
       "    .dataframe thead tr:only-child th {\n",
       "        text-align: right;\n",
       "    }\n",
       "\n",
       "    .dataframe thead th {\n",
       "        text-align: left;\n",
       "    }\n",
       "\n",
       "    .dataframe tbody tr th {\n",
       "        vertical-align: top;\n",
       "    }\n",
       "</style>\n",
       "<table border=\"1\" class=\"dataframe\">\n",
       "  <thead>\n",
       "    <tr style=\"text-align: right;\">\n",
       "      <th></th>\n",
       "      <th>tag</th>\n",
       "      <th>count</th>\n",
       "      <th>ratio</th>\n",
       "    </tr>\n",
       "  </thead>\n",
       "  <tbody>\n",
       "    <tr>\n",
       "      <th>21512</th>\n",
       "      <td>rundhalsausschnitt</td>\n",
       "      <td>4328</td>\n",
       "      <td>35.20</td>\n",
       "    </tr>\n",
       "    <tr>\n",
       "      <th>16550</th>\n",
       "      <td>geknöpfter schlüssellochausschnitt auf der rückseite</td>\n",
       "      <td>650</td>\n",
       "      <td>5.29</td>\n",
       "    </tr>\n",
       "    <tr>\n",
       "      <th>24058</th>\n",
       "      <td>v-ausschnitt</td>\n",
       "      <td>585</td>\n",
       "      <td>4.76</td>\n",
       "    </tr>\n",
       "    <tr>\n",
       "      <th>16697</th>\n",
       "      <td>gerippter rundhalsausschnitt</td>\n",
       "      <td>492</td>\n",
       "      <td>4.00</td>\n",
       "    </tr>\n",
       "    <tr>\n",
       "      <th>21536</th>\n",
       "      <td>rundhalsausschnitt mit eingesetztem v-ausschnitt</td>\n",
       "      <td>170</td>\n",
       "      <td>1.38</td>\n",
       "    </tr>\n",
       "    <tr>\n",
       "      <th>23737</th>\n",
       "      <td>tiefer rückenausschnitt</td>\n",
       "      <td>137</td>\n",
       "      <td>1.11</td>\n",
       "    </tr>\n",
       "    <tr>\n",
       "      <th>521</th>\n",
       "      <td>abgerundeter v-ausschnitt</td>\n",
       "      <td>125</td>\n",
       "      <td>1.02</td>\n",
       "    </tr>\n",
       "  </tbody>\n",
       "</table>\n",
       "</div>"
      ],
      "text/plain": [
       "                                                        tag  count  ratio\n",
       "21512                                    rundhalsausschnitt   4328  35.20\n",
       "16550  geknöpfter schlüssellochausschnitt auf der rückseite    650   5.29\n",
       "24058                                          v-ausschnitt    585   4.76\n",
       "16697                          gerippter rundhalsausschnitt    492   4.00\n",
       "21536      rundhalsausschnitt mit eingesetztem v-ausschnitt    170   1.38\n",
       "23737                               tiefer rückenausschnitt    137   1.11\n",
       "521                               abgerundeter v-ausschnitt    125   1.02"
      ]
     },
     "execution_count": 14,
     "metadata": {},
     "output_type": "execute_result"
    }
   ],
   "source": [
    "tag_df[tag_df['tag'].str.contains('ausschnitt')]"
   ]
  },
  {
   "cell_type": "code",
   "execution_count": 15,
   "metadata": {
    "collapsed": true
   },
   "outputs": [],
   "source": [
    "ausschnitt_list = tag_df[tag_df['tag'].str.contains('ausschnitt')]['tag'].tolist()\n",
    "df = create_tag_column(df, ausschnitt_list, 'ausschnitt')"
   ]
  },
  {
   "cell_type": "code",
   "execution_count": 16,
   "metadata": {},
   "outputs": [
    {
     "data": {
      "text/plain": [
       "array(['rundhalsausschnitt', nan, 'gerippter rundhalsausschnitt',\n",
       "       'v-ausschnitt',\n",
       "       'geknöpfter schlüssellochausschnitt auf der rückseite',\n",
       "       'rundhalsausschnitt mit eingesetztem v-ausschnitt',\n",
       "       'abgerundeter v-ausschnitt', 'tiefer rückenausschnitt'], dtype=object)"
      ]
     },
     "execution_count": 16,
     "metadata": {},
     "output_type": "execute_result"
    }
   ],
   "source": [
    "df['ausschnitt'].unique()"
   ]
  },
  {
   "cell_type": "code",
   "execution_count": 17,
   "metadata": {
    "collapsed": true
   },
   "outputs": [],
   "source": [
    "neckline_u = ['rundhalsausschnitt', 'gerippter rundhalsausschnitt', \n",
    "              'rundhalsausschnitt mit eingesetztem v-ausschnitt']\n",
    "neckline_v = ['v-ausschnitt', 'abgerundeter v-ausschnitt']\n",
    "neckline_back = ['geknöpfter schlüssellochausschnitt auf der rückseite', 'tiefer rückenausschnitt']\n",
    "df['ausschnitt'] = ['u' if x in neckline_u else 'v' if x in neckline_v\n",
    "                 else 'back' if x in neckline_back else np.nan for x in df['ausschnitt']]"
   ]
  },
  {
   "cell_type": "markdown",
   "metadata": {},
   "source": [
    "### Ärmellänge"
   ]
  },
  {
   "cell_type": "code",
   "execution_count": 18,
   "metadata": {},
   "outputs": [
    {
     "data": {
      "text/html": [
       "<div>\n",
       "<style>\n",
       "    .dataframe thead tr:only-child th {\n",
       "        text-align: right;\n",
       "    }\n",
       "\n",
       "    .dataframe thead th {\n",
       "        text-align: left;\n",
       "    }\n",
       "\n",
       "    .dataframe tbody tr th {\n",
       "        vertical-align: top;\n",
       "    }\n",
       "</style>\n",
       "<table border=\"1\" class=\"dataframe\">\n",
       "  <thead>\n",
       "    <tr style=\"text-align: right;\">\n",
       "      <th></th>\n",
       "      <th>tag</th>\n",
       "      <th>count</th>\n",
       "      <th>ratio</th>\n",
       "    </tr>\n",
       "  </thead>\n",
       "  <tbody>\n",
       "    <tr>\n",
       "      <th>15498</th>\n",
       "      <td>dreiviertel-ärmel</td>\n",
       "      <td>600</td>\n",
       "      <td>4.88</td>\n",
       "    </tr>\n",
       "    <tr>\n",
       "      <th>18383</th>\n",
       "      <td>kurze ärmel</td>\n",
       "      <td>565</td>\n",
       "      <td>4.60</td>\n",
       "    </tr>\n",
       "    <tr>\n",
       "      <th>25003</th>\n",
       "      <td>ärmellos</td>\n",
       "      <td>513</td>\n",
       "      <td>4.17</td>\n",
       "    </tr>\n",
       "    <tr>\n",
       "      <th>18529</th>\n",
       "      <td>lange ärmel</td>\n",
       "      <td>443</td>\n",
       "      <td>3.60</td>\n",
       "    </tr>\n",
       "    <tr>\n",
       "      <th>16</th>\n",
       "      <td>angeschnittene ärmel</td>\n",
       "      <td>344</td>\n",
       "      <td>2.80</td>\n",
       "    </tr>\n",
       "    <tr>\n",
       "      <th>421</th>\n",
       "      <td>ärmelloser schnitt</td>\n",
       "      <td>213</td>\n",
       "      <td>1.73</td>\n",
       "    </tr>\n",
       "    <tr>\n",
       "      <th>25066</th>\n",
       "      <td>ärmellänge bei größe 36: 62 cm</td>\n",
       "      <td>163</td>\n",
       "      <td>1.33</td>\n",
       "    </tr>\n",
       "    <tr>\n",
       "      <th>21263</th>\n",
       "      <td>raglanärmel</td>\n",
       "      <td>152</td>\n",
       "      <td>1.24</td>\n",
       "    </tr>\n",
       "    <tr>\n",
       "      <th>25174</th>\n",
       "      <td>ärmellänge bei größe m: 63 cm</td>\n",
       "      <td>150</td>\n",
       "      <td>1.22</td>\n",
       "    </tr>\n",
       "    <tr>\n",
       "      <th>25176</th>\n",
       "      <td>ärmellänge bei größe m: 64 cm</td>\n",
       "      <td>140</td>\n",
       "      <td>1.14</td>\n",
       "    </tr>\n",
       "    <tr>\n",
       "      <th>25068</th>\n",
       "      <td>ärmellänge bei größe 36: 63 cm</td>\n",
       "      <td>140</td>\n",
       "      <td>1.14</td>\n",
       "    </tr>\n",
       "    <tr>\n",
       "      <th>25062</th>\n",
       "      <td>ärmellänge bei größe 36: 60 cm</td>\n",
       "      <td>138</td>\n",
       "      <td>1.12</td>\n",
       "    </tr>\n",
       "    <tr>\n",
       "      <th>17913</th>\n",
       "      <td>kappärmel</td>\n",
       "      <td>138</td>\n",
       "      <td>1.12</td>\n",
       "    </tr>\n",
       "  </tbody>\n",
       "</table>\n",
       "</div>"
      ],
      "text/plain": [
       "                                  tag  count  ratio\n",
       "15498               dreiviertel-ärmel    600   4.88\n",
       "18383                     kurze ärmel    565   4.60\n",
       "25003                        ärmellos    513   4.17\n",
       "18529                     lange ärmel    443   3.60\n",
       "16               angeschnittene ärmel    344   2.80\n",
       "421                ärmelloser schnitt    213   1.73\n",
       "25066  ärmellänge bei größe 36: 62 cm    163   1.33\n",
       "21263                     raglanärmel    152   1.24\n",
       "25174   ärmellänge bei größe m: 63 cm    150   1.22\n",
       "25176   ärmellänge bei größe m: 64 cm    140   1.14\n",
       "25068  ärmellänge bei größe 36: 63 cm    140   1.14\n",
       "25062  ärmellänge bei größe 36: 60 cm    138   1.12\n",
       "17913                       kappärmel    138   1.12"
      ]
     },
     "execution_count": 18,
     "metadata": {},
     "output_type": "execute_result"
    }
   ],
   "source": [
    "tag_df[tag_df['tag'].str.contains('ärmel')]"
   ]
  },
  {
   "cell_type": "code",
   "execution_count": 19,
   "metadata": {
    "collapsed": true
   },
   "outputs": [],
   "source": [
    "aermel_list = tag_df[tag_df['tag'].str.contains('ärmel')]['tag'].tolist()\n",
    "df = create_tag_column(df, aermel_list, 'ärmellänge')"
   ]
  },
  {
   "cell_type": "code",
   "execution_count": 20,
   "metadata": {},
   "outputs": [
    {
     "data": {
      "text/plain": [
       "array(['ärmelloser schnitt', nan, 'ärmellos', 'lange ärmel',\n",
       "       'angeschnittene ärmel', 'kurze ärmel', 'dreiviertel-ärmel',\n",
       "       'kappärmel', 'raglanärmel', '64\\xa0cm', '60\\xa0cm', '62\\xa0cm',\n",
       "       '63\\xa0cm'], dtype=object)"
      ]
     },
     "execution_count": 20,
     "metadata": {},
     "output_type": "execute_result"
    }
   ],
   "source": [
    "df['ärmellänge'].unique()"
   ]
  },
  {
   "cell_type": "markdown",
   "metadata": {},
   "source": [
    "Merging similiar attributes together"
   ]
  },
  {
   "cell_type": "code",
   "execution_count": 21,
   "metadata": {
    "collapsed": true
   },
   "outputs": [],
   "source": [
    "df['ärmellänge'] = ['ärmellos' if x == 'ärmelloser schnitt' else x for x in df['ärmellänge']]\n",
    "df['ärmellänge'] = ['ärmellos' if x == 'ärmelloser' else x for x in df['ärmellänge']]"
   ]
  },
  {
   "cell_type": "markdown",
   "metadata": {},
   "source": [
    "Renaming attributes according to the aboutyou dataset"
   ]
  },
  {
   "cell_type": "code",
   "execution_count": 22,
   "metadata": {
    "collapsed": true
   },
   "outputs": [],
   "source": [
    "df['ärmellänge'] = ['langarm' if x == 'lange ärmel' else x for x in df['ärmellänge']]\n",
    "df['ärmellänge'] = ['viertelarm' if x == 'kurze ärmel' else x for x in df['ärmellänge']]\n",
    "df['ärmellänge'] = ['dreiviertelarm' if x == 'dreiviertel-ärmel' else x for x in df['ärmellänge']]\n",
    "df['ärmellänge'] = ['dreiviertelarm' if x == 'dreiviertel-ärmel mit ausgestellten abschlüssen' else x for x in df['ärmellänge']]"
   ]
  },
  {
   "cell_type": "markdown",
   "metadata": {},
   "source": [
    "Deleting useless tags"
   ]
  },
  {
   "cell_type": "code",
   "execution_count": 23,
   "metadata": {
    "collapsed": true
   },
   "outputs": [],
   "source": [
    "df['ärmellänge'] = [x if x in ['ärmellos', 'langarm', 'viertelarm', 'dreiviertelarm'] else np.nan for x in df['ärmellänge']]"
   ]
  },
  {
   "cell_type": "markdown",
   "metadata": {},
   "source": [
    "### Muster"
   ]
  },
  {
   "cell_type": "code",
   "execution_count": 24,
   "metadata": {},
   "outputs": [
    {
     "data": {
      "text/html": [
       "<div>\n",
       "<style>\n",
       "    .dataframe thead tr:only-child th {\n",
       "        text-align: right;\n",
       "    }\n",
       "\n",
       "    .dataframe thead th {\n",
       "        text-align: left;\n",
       "    }\n",
       "\n",
       "    .dataframe tbody tr th {\n",
       "        vertical-align: top;\n",
       "    }\n",
       "</style>\n",
       "<table border=\"1\" class=\"dataframe\">\n",
       "  <thead>\n",
       "    <tr style=\"text-align: right;\">\n",
       "      <th></th>\n",
       "      <th>tag</th>\n",
       "      <th>count</th>\n",
       "      <th>ratio</th>\n",
       "    </tr>\n",
       "  </thead>\n",
       "  <tbody>\n",
       "    <tr>\n",
       "      <th>23404</th>\n",
       "      <td>streifenmuster</td>\n",
       "      <td>834</td>\n",
       "      <td>6.78</td>\n",
       "    </tr>\n",
       "    <tr>\n",
       "      <th>16436</th>\n",
       "      <td>florales muster</td>\n",
       "      <td>588</td>\n",
       "      <td>4.78</td>\n",
       "    </tr>\n",
       "    <tr>\n",
       "      <th>662</th>\n",
       "      <td>allover-muster</td>\n",
       "      <td>584</td>\n",
       "      <td>4.75</td>\n",
       "    </tr>\n",
       "  </tbody>\n",
       "</table>\n",
       "</div>"
      ],
      "text/plain": [
       "                   tag  count  ratio\n",
       "23404   streifenmuster    834   6.78\n",
       "16436  florales muster    588   4.78\n",
       "662     allover-muster    584   4.75"
      ]
     },
     "execution_count": 24,
     "metadata": {},
     "output_type": "execute_result"
    }
   ],
   "source": [
    "tag_df[(tag_df['tag'].str.contains(r'floral|streif|punkt|muster|spitze$'))]"
   ]
  },
  {
   "cell_type": "code",
   "execution_count": 25,
   "metadata": {
    "collapsed": true
   },
   "outputs": [],
   "source": [
    "muster_list = tag_df[(tag_df['tag'].str.contains(r'floral|streif|punkt|muster|spitze$'))]['tag'].tolist()\n",
    "df = create_tag_column(df, muster_list, 'muster')"
   ]
  },
  {
   "cell_type": "code",
   "execution_count": 26,
   "metadata": {},
   "outputs": [
    {
     "data": {
      "text/plain": [
       "array([nan, 'streifenmuster', 'florales muster', 'allover-muster'], dtype=object)"
      ]
     },
     "execution_count": 26,
     "metadata": {},
     "output_type": "execute_result"
    }
   ],
   "source": [
    "df['muster'].unique()"
   ]
  },
  {
   "cell_type": "code",
   "execution_count": 27,
   "metadata": {
    "collapsed": true
   },
   "outputs": [],
   "source": [
    "df['muster'] = ['gestreift' if x == 'streifenmuster' else x for x in df['muster']]\n",
    "df['muster'] = ['geblümt/floral' if x == 'florales muster' else x for x in df['muster']]\n",
    "df['muster'] = ['all-over-muster' if x == 'allover-muster' else x for x in df['muster']]\n",
    "df['muster'] = ['spitze' if 'spitze' in str(x) else x for x in df['muster']]"
   ]
  },
  {
   "cell_type": "code",
   "execution_count": 28,
   "metadata": {
    "collapsed": true
   },
   "outputs": [],
   "source": [
    "df['muster'] = [x if x in ['gestreift', 'geblümt/floral', 'all-over-muster', 'spitze'] else np.nan for x in df['muster']]"
   ]
  },
  {
   "cell_type": "markdown",
   "metadata": {},
   "source": [
    "## Create dummies\n",
    "Turn the created attribute columns into dummy variables."
   ]
  },
  {
   "cell_type": "code",
   "execution_count": 29,
   "metadata": {
    "collapsed": true
   },
   "outputs": [],
   "source": [
    "df = df.set_index('img_url')\n",
    "df_dum = pd.get_dummies(df[['category', 'color', 'ärmellänge', 'muster', 'passform', 'ausschnitt']]).reset_index()"
   ]
  },
  {
   "cell_type": "code",
   "execution_count": 30,
   "metadata": {},
   "outputs": [
    {
     "data": {
      "text/html": [
       "<div>\n",
       "<style>\n",
       "    .dataframe thead tr:only-child th {\n",
       "        text-align: right;\n",
       "    }\n",
       "\n",
       "    .dataframe thead th {\n",
       "        text-align: left;\n",
       "    }\n",
       "\n",
       "    .dataframe tbody tr th {\n",
       "        vertical-align: top;\n",
       "    }\n",
       "</style>\n",
       "<table border=\"1\" class=\"dataframe\">\n",
       "  <thead>\n",
       "    <tr style=\"text-align: right;\">\n",
       "      <th></th>\n",
       "      <th>img_url</th>\n",
       "      <th>category_blusen</th>\n",
       "      <th>category_hosen</th>\n",
       "      <th>category_jacken</th>\n",
       "      <th>category_jeans</th>\n",
       "      <th>category_jumpsuits</th>\n",
       "      <th>category_kleider</th>\n",
       "      <th>category_pullover-strick</th>\n",
       "      <th>category_roecke</th>\n",
       "      <th>category_shirts</th>\n",
       "      <th>...</th>\n",
       "      <th>ärmellänge_ärmellos</th>\n",
       "      <th>muster_all-over-muster</th>\n",
       "      <th>muster_geblümt/floral</th>\n",
       "      <th>muster_gestreift</th>\n",
       "      <th>passform_loose</th>\n",
       "      <th>passform_normal</th>\n",
       "      <th>passform_tight</th>\n",
       "      <th>ausschnitt_back</th>\n",
       "      <th>ausschnitt_u</th>\n",
       "      <th>ausschnitt_v</th>\n",
       "    </tr>\n",
       "  </thead>\n",
       "  <tbody>\n",
       "    <tr>\n",
       "      <th>0</th>\n",
       "      <td>https://img.fidcdn.net/r17/product/guess-kleid-porzia-mit-einsatz-aus-mesh-schwarz_9765638,3f8d67.jpg</td>\n",
       "      <td>0</td>\n",
       "      <td>0</td>\n",
       "      <td>0</td>\n",
       "      <td>0</td>\n",
       "      <td>0</td>\n",
       "      <td>1</td>\n",
       "      <td>0</td>\n",
       "      <td>0</td>\n",
       "      <td>0</td>\n",
       "      <td>...</td>\n",
       "      <td>1</td>\n",
       "      <td>0</td>\n",
       "      <td>0</td>\n",
       "      <td>0</td>\n",
       "      <td>0</td>\n",
       "      <td>0</td>\n",
       "      <td>0</td>\n",
       "      <td>0</td>\n",
       "      <td>1</td>\n",
       "      <td>0</td>\n",
       "    </tr>\n",
       "    <tr>\n",
       "      <th>1</th>\n",
       "      <td>https://img.fidcdn.net/r17/product/jakes-maxikleid-mit-streifenmuster-schwarz_9805106,bb47d7.jpg</td>\n",
       "      <td>0</td>\n",
       "      <td>0</td>\n",
       "      <td>0</td>\n",
       "      <td>0</td>\n",
       "      <td>0</td>\n",
       "      <td>1</td>\n",
       "      <td>0</td>\n",
       "      <td>0</td>\n",
       "      <td>0</td>\n",
       "      <td>...</td>\n",
       "      <td>0</td>\n",
       "      <td>0</td>\n",
       "      <td>0</td>\n",
       "      <td>1</td>\n",
       "      <td>0</td>\n",
       "      <td>0</td>\n",
       "      <td>0</td>\n",
       "      <td>0</td>\n",
       "      <td>1</td>\n",
       "      <td>0</td>\n",
       "    </tr>\n",
       "    <tr>\n",
       "      <th>2</th>\n",
       "      <td>https://img.fidcdn.net/r17/product/only-kleid-mit-rockteil-aus-floraler-spitze-schwarz_9815363,3aa47b.jpg</td>\n",
       "      <td>0</td>\n",
       "      <td>0</td>\n",
       "      <td>0</td>\n",
       "      <td>0</td>\n",
       "      <td>0</td>\n",
       "      <td>1</td>\n",
       "      <td>0</td>\n",
       "      <td>0</td>\n",
       "      <td>0</td>\n",
       "      <td>...</td>\n",
       "      <td>0</td>\n",
       "      <td>0</td>\n",
       "      <td>0</td>\n",
       "      <td>0</td>\n",
       "      <td>0</td>\n",
       "      <td>0</td>\n",
       "      <td>0</td>\n",
       "      <td>0</td>\n",
       "      <td>0</td>\n",
       "      <td>0</td>\n",
       "    </tr>\n",
       "    <tr>\n",
       "      <th>3</th>\n",
       "      <td>https://img.fidcdn.net/r17/product/only-one-shoulder-kleid-mit-volantbesatz-schwarz_9815368,5ac017.jpg</td>\n",
       "      <td>0</td>\n",
       "      <td>0</td>\n",
       "      <td>0</td>\n",
       "      <td>0</td>\n",
       "      <td>0</td>\n",
       "      <td>1</td>\n",
       "      <td>0</td>\n",
       "      <td>0</td>\n",
       "      <td>0</td>\n",
       "      <td>...</td>\n",
       "      <td>0</td>\n",
       "      <td>0</td>\n",
       "      <td>0</td>\n",
       "      <td>0</td>\n",
       "      <td>0</td>\n",
       "      <td>1</td>\n",
       "      <td>0</td>\n",
       "      <td>0</td>\n",
       "      <td>0</td>\n",
       "      <td>0</td>\n",
       "    </tr>\n",
       "    <tr>\n",
       "      <th>4</th>\n",
       "      <td>https://img.fidcdn.net/r17/product/windsor-etuikleid-mit-taillenguertel-schwarz_9875358,44d04f.jpg</td>\n",
       "      <td>0</td>\n",
       "      <td>0</td>\n",
       "      <td>0</td>\n",
       "      <td>0</td>\n",
       "      <td>0</td>\n",
       "      <td>1</td>\n",
       "      <td>0</td>\n",
       "      <td>0</td>\n",
       "      <td>0</td>\n",
       "      <td>...</td>\n",
       "      <td>1</td>\n",
       "      <td>0</td>\n",
       "      <td>0</td>\n",
       "      <td>0</td>\n",
       "      <td>0</td>\n",
       "      <td>0</td>\n",
       "      <td>1</td>\n",
       "      <td>0</td>\n",
       "      <td>0</td>\n",
       "      <td>0</td>\n",
       "    </tr>\n",
       "  </tbody>\n",
       "</table>\n",
       "<p>5 rows × 32 columns</p>\n",
       "</div>"
      ],
      "text/plain": [
       "                                                                                                     img_url  \\\n",
       "0      https://img.fidcdn.net/r17/product/guess-kleid-porzia-mit-einsatz-aus-mesh-schwarz_9765638,3f8d67.jpg   \n",
       "1           https://img.fidcdn.net/r17/product/jakes-maxikleid-mit-streifenmuster-schwarz_9805106,bb47d7.jpg   \n",
       "2  https://img.fidcdn.net/r17/product/only-kleid-mit-rockteil-aus-floraler-spitze-schwarz_9815363,3aa47b.jpg   \n",
       "3     https://img.fidcdn.net/r17/product/only-one-shoulder-kleid-mit-volantbesatz-schwarz_9815368,5ac017.jpg   \n",
       "4         https://img.fidcdn.net/r17/product/windsor-etuikleid-mit-taillenguertel-schwarz_9875358,44d04f.jpg   \n",
       "\n",
       "   category_blusen  category_hosen  category_jacken  category_jeans  \\\n",
       "0                0               0                0               0   \n",
       "1                0               0                0               0   \n",
       "2                0               0                0               0   \n",
       "3                0               0                0               0   \n",
       "4                0               0                0               0   \n",
       "\n",
       "   category_jumpsuits  category_kleider  category_pullover-strick  \\\n",
       "0                   0                 1                         0   \n",
       "1                   0                 1                         0   \n",
       "2                   0                 1                         0   \n",
       "3                   0                 1                         0   \n",
       "4                   0                 1                         0   \n",
       "\n",
       "   category_roecke  category_shirts      ...       ärmellänge_ärmellos  \\\n",
       "0                0                0      ...                         1   \n",
       "1                0                0      ...                         0   \n",
       "2                0                0      ...                         0   \n",
       "3                0                0      ...                         0   \n",
       "4                0                0      ...                         1   \n",
       "\n",
       "   muster_all-over-muster  muster_geblümt/floral  muster_gestreift  \\\n",
       "0                       0                      0                 0   \n",
       "1                       0                      0                 1   \n",
       "2                       0                      0                 0   \n",
       "3                       0                      0                 0   \n",
       "4                       0                      0                 0   \n",
       "\n",
       "   passform_loose  passform_normal  passform_tight  ausschnitt_back  \\\n",
       "0               0                0               0                0   \n",
       "1               0                0               0                0   \n",
       "2               0                0               0                0   \n",
       "3               0                1               0                0   \n",
       "4               0                0               1                0   \n",
       "\n",
       "   ausschnitt_u  ausschnitt_v  \n",
       "0             1             0  \n",
       "1             1             0  \n",
       "2             0             0  \n",
       "3             0             0  \n",
       "4             0             0  \n",
       "\n",
       "[5 rows x 32 columns]"
      ]
     },
     "execution_count": 30,
     "metadata": {},
     "output_type": "execute_result"
    }
   ],
   "source": [
    "df_dum.head()"
   ]
  },
  {
   "cell_type": "markdown",
   "metadata": {},
   "source": [
    "Join the relative image path based on the img_url and drop the img_url. This creates a dataframe that holds the relative image path and all its dummy variables."
   ]
  },
  {
   "cell_type": "code",
   "execution_count": 31,
   "metadata": {
    "collapsed": true
   },
   "outputs": [],
   "source": [
    "df_dum = df_dum.groupby(['img_url']).max().reset_index()\n",
    "df_paths = df.groupby(['img_url']).first()['img_path'].reset_index()\n",
    "df_dum = df_paths.merge(df_dum, how='inner').drop(['img_url'], axis=1)"
   ]
  },
  {
   "cell_type": "code",
   "execution_count": 32,
   "metadata": {},
   "outputs": [
    {
     "data": {
      "text/html": [
       "<div>\n",
       "<style>\n",
       "    .dataframe thead tr:only-child th {\n",
       "        text-align: right;\n",
       "    }\n",
       "\n",
       "    .dataframe thead th {\n",
       "        text-align: left;\n",
       "    }\n",
       "\n",
       "    .dataframe tbody tr th {\n",
       "        vertical-align: top;\n",
       "    }\n",
       "</style>\n",
       "<table border=\"1\" class=\"dataframe\">\n",
       "  <thead>\n",
       "    <tr style=\"text-align: right;\">\n",
       "      <th></th>\n",
       "      <th>img_path</th>\n",
       "      <th>category_blusen</th>\n",
       "      <th>category_hosen</th>\n",
       "      <th>category_jacken</th>\n",
       "      <th>category_jeans</th>\n",
       "      <th>category_jumpsuits</th>\n",
       "      <th>category_kleider</th>\n",
       "      <th>category_pullover-strick</th>\n",
       "      <th>category_roecke</th>\n",
       "      <th>category_shirts</th>\n",
       "      <th>...</th>\n",
       "      <th>ärmellänge_ärmellos</th>\n",
       "      <th>muster_all-over-muster</th>\n",
       "      <th>muster_geblümt/floral</th>\n",
       "      <th>muster_gestreift</th>\n",
       "      <th>passform_loose</th>\n",
       "      <th>passform_normal</th>\n",
       "      <th>passform_tight</th>\n",
       "      <th>ausschnitt_back</th>\n",
       "      <th>ausschnitt_u</th>\n",
       "      <th>ausschnitt_v</th>\n",
       "    </tr>\n",
       "  </thead>\n",
       "  <tbody>\n",
       "    <tr>\n",
       "      <th>0</th>\n",
       "      <td>blusen/9767854.jpg</td>\n",
       "      <td>1</td>\n",
       "      <td>0</td>\n",
       "      <td>0</td>\n",
       "      <td>0</td>\n",
       "      <td>0</td>\n",
       "      <td>0</td>\n",
       "      <td>0</td>\n",
       "      <td>0</td>\n",
       "      <td>1</td>\n",
       "      <td>...</td>\n",
       "      <td>0</td>\n",
       "      <td>0</td>\n",
       "      <td>0</td>\n",
       "      <td>0</td>\n",
       "      <td>1</td>\n",
       "      <td>0</td>\n",
       "      <td>0</td>\n",
       "      <td>0</td>\n",
       "      <td>0</td>\n",
       "      <td>0</td>\n",
       "    </tr>\n",
       "    <tr>\n",
       "      <th>1</th>\n",
       "      <td>blusen/9767853.jpg</td>\n",
       "      <td>1</td>\n",
       "      <td>0</td>\n",
       "      <td>0</td>\n",
       "      <td>0</td>\n",
       "      <td>0</td>\n",
       "      <td>0</td>\n",
       "      <td>0</td>\n",
       "      <td>0</td>\n",
       "      <td>1</td>\n",
       "      <td>...</td>\n",
       "      <td>0</td>\n",
       "      <td>0</td>\n",
       "      <td>1</td>\n",
       "      <td>0</td>\n",
       "      <td>1</td>\n",
       "      <td>0</td>\n",
       "      <td>0</td>\n",
       "      <td>0</td>\n",
       "      <td>0</td>\n",
       "      <td>0</td>\n",
       "    </tr>\n",
       "    <tr>\n",
       "      <th>2</th>\n",
       "      <td>blusen/9767860.jpg</td>\n",
       "      <td>1</td>\n",
       "      <td>0</td>\n",
       "      <td>0</td>\n",
       "      <td>0</td>\n",
       "      <td>0</td>\n",
       "      <td>0</td>\n",
       "      <td>0</td>\n",
       "      <td>0</td>\n",
       "      <td>1</td>\n",
       "      <td>...</td>\n",
       "      <td>0</td>\n",
       "      <td>0</td>\n",
       "      <td>0</td>\n",
       "      <td>0</td>\n",
       "      <td>1</td>\n",
       "      <td>0</td>\n",
       "      <td>0</td>\n",
       "      <td>0</td>\n",
       "      <td>0</td>\n",
       "      <td>1</td>\n",
       "    </tr>\n",
       "    <tr>\n",
       "      <th>3</th>\n",
       "      <td>blusen/9767855.jpg</td>\n",
       "      <td>1</td>\n",
       "      <td>0</td>\n",
       "      <td>0</td>\n",
       "      <td>0</td>\n",
       "      <td>0</td>\n",
       "      <td>0</td>\n",
       "      <td>0</td>\n",
       "      <td>0</td>\n",
       "      <td>1</td>\n",
       "      <td>...</td>\n",
       "      <td>0</td>\n",
       "      <td>0</td>\n",
       "      <td>0</td>\n",
       "      <td>0</td>\n",
       "      <td>0</td>\n",
       "      <td>0</td>\n",
       "      <td>0</td>\n",
       "      <td>0</td>\n",
       "      <td>0</td>\n",
       "      <td>0</td>\n",
       "    </tr>\n",
       "    <tr>\n",
       "      <th>4</th>\n",
       "      <td>blusen/9767857.jpg</td>\n",
       "      <td>1</td>\n",
       "      <td>0</td>\n",
       "      <td>0</td>\n",
       "      <td>0</td>\n",
       "      <td>0</td>\n",
       "      <td>0</td>\n",
       "      <td>0</td>\n",
       "      <td>0</td>\n",
       "      <td>1</td>\n",
       "      <td>...</td>\n",
       "      <td>0</td>\n",
       "      <td>0</td>\n",
       "      <td>0</td>\n",
       "      <td>0</td>\n",
       "      <td>0</td>\n",
       "      <td>0</td>\n",
       "      <td>0</td>\n",
       "      <td>0</td>\n",
       "      <td>0</td>\n",
       "      <td>1</td>\n",
       "    </tr>\n",
       "  </tbody>\n",
       "</table>\n",
       "<p>5 rows × 32 columns</p>\n",
       "</div>"
      ],
      "text/plain": [
       "             img_path  category_blusen  category_hosen  category_jacken  \\\n",
       "0  blusen/9767854.jpg                1               0                0   \n",
       "1  blusen/9767853.jpg                1               0                0   \n",
       "2  blusen/9767860.jpg                1               0                0   \n",
       "3  blusen/9767855.jpg                1               0                0   \n",
       "4  blusen/9767857.jpg                1               0                0   \n",
       "\n",
       "   category_jeans  category_jumpsuits  category_kleider  \\\n",
       "0               0                   0                 0   \n",
       "1               0                   0                 0   \n",
       "2               0                   0                 0   \n",
       "3               0                   0                 0   \n",
       "4               0                   0                 0   \n",
       "\n",
       "   category_pullover-strick  category_roecke  category_shirts      ...       \\\n",
       "0                         0                0                1      ...        \n",
       "1                         0                0                1      ...        \n",
       "2                         0                0                1      ...        \n",
       "3                         0                0                1      ...        \n",
       "4                         0                0                1      ...        \n",
       "\n",
       "   ärmellänge_ärmellos  muster_all-over-muster  muster_geblümt/floral  \\\n",
       "0                    0                       0                      0   \n",
       "1                    0                       0                      1   \n",
       "2                    0                       0                      0   \n",
       "3                    0                       0                      0   \n",
       "4                    0                       0                      0   \n",
       "\n",
       "   muster_gestreift  passform_loose  passform_normal  passform_tight  \\\n",
       "0                 0               1                0               0   \n",
       "1                 0               1                0               0   \n",
       "2                 0               1                0               0   \n",
       "3                 0               0                0               0   \n",
       "4                 0               0                0               0   \n",
       "\n",
       "   ausschnitt_back  ausschnitt_u  ausschnitt_v  \n",
       "0                0             0             0  \n",
       "1                0             0             0  \n",
       "2                0             0             1  \n",
       "3                0             0             0  \n",
       "4                0             0             1  \n",
       "\n",
       "[5 rows x 32 columns]"
      ]
     },
     "execution_count": 32,
     "metadata": {},
     "output_type": "execute_result"
    }
   ],
   "source": [
    "df_dum.head()"
   ]
  },
  {
   "cell_type": "code",
   "execution_count": 33,
   "metadata": {},
   "outputs": [],
   "source": [
    "df_dum.to_csv(os.path.join(data_path, 'img_attr.csv'), sep='\\t', encoding='utf-8', index=False)"
   ]
  },
  {
   "cell_type": "code",
   "execution_count": null,
   "metadata": {
    "collapsed": true
   },
   "outputs": [],
   "source": []
  }
 ],
 "metadata": {
  "kernelspec": {
   "display_name": "Python 3",
   "language": "python",
   "name": "python3"
  },
  "language_info": {
   "codemirror_mode": {
    "name": "ipython",
    "version": 3
   },
   "file_extension": ".py",
   "mimetype": "text/x-python",
   "name": "python",
   "nbconvert_exporter": "python",
   "pygments_lexer": "ipython3",
   "version": "3.6.3"
  }
 },
 "nbformat": 4,
 "nbformat_minor": 2
}
