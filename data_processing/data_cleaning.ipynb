{
 "cells": [
  {
   "cell_type": "code",
   "execution_count": 1,
   "metadata": {
    "collapsed": true,
    "scrolled": true
   },
   "outputs": [],
   "source": [
    "import pandas as pd\n",
    "import os\n",
    "import glob"
   ]
  },
  {
   "cell_type": "code",
   "execution_count": 2,
   "metadata": {
    "collapsed": true,
    "scrolled": true
   },
   "outputs": [],
   "source": [
    "data_path = '/Users/sonynka/HTW/IC/data/fashionid/'"
   ]
  },
  {
   "cell_type": "code",
   "execution_count": 3,
   "metadata": {
    "collapsed": true
   },
   "outputs": [],
   "source": [
    "df = pd.read_csv(os.path.join(data_path, 'data.csv'), sep=';')"
   ]
  },
  {
   "cell_type": "code",
   "execution_count": 6,
   "metadata": {},
   "outputs": [
    {
     "data": {
      "text/html": [
       "<div>\n",
       "<style>\n",
       "    .dataframe thead tr:only-child th {\n",
       "        text-align: right;\n",
       "    }\n",
       "\n",
       "    .dataframe thead th {\n",
       "        text-align: left;\n",
       "    }\n",
       "\n",
       "    .dataframe tbody tr th {\n",
       "        vertical-align: top;\n",
       "    }\n",
       "</style>\n",
       "<table border=\"1\" class=\"dataframe\">\n",
       "  <thead>\n",
       "    <tr style=\"text-align: right;\">\n",
       "      <th></th>\n",
       "      <th>attributes</th>\n",
       "      <th>category</th>\n",
       "      <th>color</th>\n",
       "      <th>img_path</th>\n",
       "      <th>img_url</th>\n",
       "      <th>product_name</th>\n",
       "    </tr>\n",
       "  </thead>\n",
       "  <tbody>\n",
       "    <tr>\n",
       "      <th>0</th>\n",
       "      <td>Damen Kleid von GUESS,Eng anliegender, ärmello...</td>\n",
       "      <td>kleider</td>\n",
       "      <td>black</td>\n",
       "      <td>kleider/9765638.jpg</td>\n",
       "      <td>https://img.fidcdn.net/r17/product/guess-kleid...</td>\n",
       "      <td>Guess Porzia Dress –Kleid 'Porzia' mit Einsatz...</td>\n",
       "    </tr>\n",
       "    <tr>\n",
       "      <th>1</th>\n",
       "      <td>Damen Maxikleid von Jake*s,Baumwollmischung,Är...</td>\n",
       "      <td>kleider</td>\n",
       "      <td>black</td>\n",
       "      <td>kleider/9805106.jpg</td>\n",
       "      <td>https://img.fidcdn.net/r17/product/jakes-maxik...</td>\n",
       "      <td>Jake*s Maxikleid mit Streifenmuster - Schwarz</td>\n",
       "    </tr>\n",
       "    <tr>\n",
       "      <th>2</th>\n",
       "      <td>Damen Kleid von ONLY,Baumwoll-Elasthan-Mix,Mod...</td>\n",
       "      <td>kleider</td>\n",
       "      <td>black</td>\n",
       "      <td>kleider/9815363.jpg</td>\n",
       "      <td>https://img.fidcdn.net/r17/product/only-kleid-...</td>\n",
       "      <td>Only Kleid mit Rockteil aus floraler Spitze - ...</td>\n",
       "    </tr>\n",
       "    <tr>\n",
       "      <th>3</th>\n",
       "      <td>Damen Kleid von ONLY,Chiffon,Modell Maya,Ausge...</td>\n",
       "      <td>kleider</td>\n",
       "      <td>black</td>\n",
       "      <td>kleider/9815368.jpg</td>\n",
       "      <td>https://img.fidcdn.net/r17/product/only-one-sh...</td>\n",
       "      <td>Only One-Shoulder-Kleid mit Volantbesatz - Sch...</td>\n",
       "    </tr>\n",
       "    <tr>\n",
       "      <th>4</th>\n",
       "      <td>Damen Etuikleid von Windsor,Baumwollmischung m...</td>\n",
       "      <td>kleider</td>\n",
       "      <td>black</td>\n",
       "      <td>kleider/9875358.jpg</td>\n",
       "      <td>https://img.fidcdn.net/r17/product/windsor-etu...</td>\n",
       "      <td>Windsor Etuikleid mit Taillengürtel - Schwarz</td>\n",
       "    </tr>\n",
       "  </tbody>\n",
       "</table>\n",
       "</div>"
      ],
      "text/plain": [
       "                                          attributes category  color  \\\n",
       "0  Damen Kleid von GUESS,Eng anliegender, ärmello...  kleider  black   \n",
       "1  Damen Maxikleid von Jake*s,Baumwollmischung,Är...  kleider  black   \n",
       "2  Damen Kleid von ONLY,Baumwoll-Elasthan-Mix,Mod...  kleider  black   \n",
       "3  Damen Kleid von ONLY,Chiffon,Modell Maya,Ausge...  kleider  black   \n",
       "4  Damen Etuikleid von Windsor,Baumwollmischung m...  kleider  black   \n",
       "\n",
       "              img_path                                            img_url  \\\n",
       "0  kleider/9765638.jpg  https://img.fidcdn.net/r17/product/guess-kleid...   \n",
       "1  kleider/9805106.jpg  https://img.fidcdn.net/r17/product/jakes-maxik...   \n",
       "2  kleider/9815363.jpg  https://img.fidcdn.net/r17/product/only-kleid-...   \n",
       "3  kleider/9815368.jpg  https://img.fidcdn.net/r17/product/only-one-sh...   \n",
       "4  kleider/9875358.jpg  https://img.fidcdn.net/r17/product/windsor-etu...   \n",
       "\n",
       "                                        product_name  \n",
       "0  Guess Porzia Dress –Kleid 'Porzia' mit Einsatz...  \n",
       "1      Jake*s Maxikleid mit Streifenmuster - Schwarz  \n",
       "2  Only Kleid mit Rockteil aus floraler Spitze - ...  \n",
       "3  Only One-Shoulder-Kleid mit Volantbesatz - Sch...  \n",
       "4      Windsor Etuikleid mit Taillengürtel - Schwarz  "
      ]
     },
     "execution_count": 6,
     "metadata": {},
     "output_type": "execute_result"
    }
   ],
   "source": [
    "df.head()"
   ]
  },
  {
   "cell_type": "code",
   "execution_count": 5,
   "metadata": {
    "collapsed": true
   },
   "outputs": [],
   "source": [
    "df = df.drop('Unnamed: 0', axis=1)"
   ]
  },
  {
   "cell_type": "code",
   "execution_count": null,
   "metadata": {},
   "outputs": [],
   "source": [
    "print('Data points', df.shape[0])\n",
    "print(df.groupby('category')['img_path'].count())"
   ]
  },
  {
   "cell_type": "markdown",
   "metadata": {},
   "source": [
    "# Clean data\n",
    "## Remove Duplicates"
   ]
  },
  {
   "cell_type": "markdown",
   "metadata": {},
   "source": [
    "Drop duplicated rows which could occured during scraping data and appending to csvs.\n",
    "\n",
    "If the count of img_path is more than unique, drop the duplicated img_path. This can occurr, if the same image is assigned to two different colors. In that case, just keep the first color.\n",
    "\n",
    "*Note: We apply this to img_path, since it is acceptable that img_url is duplicated -> one image can be assigned to two different subcategories, such as Kurze Kleider und Cocktailkleider. If one image should only have one subcategory assigned, duplicated should be dropped on img_url not on img_path.*"
   ]
  },
  {
   "cell_type": "code",
   "execution_count": null,
   "metadata": {},
   "outputs": [],
   "source": [
    "print('Shape', df.shape)\n",
    "print('Without duplicates', df.drop_duplicates().shape)"
   ]
  },
  {
   "cell_type": "markdown",
   "metadata": {},
   "source": [
    "## Check images and CSVs consistency\n",
    "### CSV -> image path check\n",
    "Make sure all the image paths in the csvs actually exist in the folder structure."
   ]
  },
  {
   "cell_type": "code",
   "execution_count": null,
   "metadata": {},
   "outputs": [],
   "source": [
    "df['exists'] = [True if os.path.exists(os.path.join(data_path, str(x))) else False for x in df['img_path']]\n",
    "not_exist_imgs_count = df[df['exists'] == False].shape[0]\n",
    "print('Not existing images', not_exist_imgs_count)\n",
    "print(df[df['exists'] == False])"
   ]
  },
  {
   "cell_type": "code",
   "execution_count": null,
   "metadata": {
    "collapsed": true
   },
   "outputs": [],
   "source": [
    "df = df[df['exists'] == True]"
   ]
  },
  {
   "cell_type": "code",
   "execution_count": null,
   "metadata": {
    "collapsed": true
   },
   "outputs": [],
   "source": [
    "df = df.drop('exists', axis=1)"
   ]
  },
  {
   "cell_type": "markdown",
   "metadata": {},
   "source": [
    "### image path -> CSV check\n",
    "Make sure all the images in the folders have an entry in the csv."
   ]
  },
  {
   "cell_type": "code",
   "execution_count": null,
   "metadata": {},
   "outputs": [],
   "source": [
    "for category in os.listdir(data_path):\n",
    "    \n",
    "    category_path = os.path.join(data_path, category)\n",
    "    if os.path.isdir(category_path):\n",
    "        print(category)\n",
    "        img_names = [os.path.join(category, o) for o in os.listdir(category_path)]\n",
    "        row_names = df[df['category'] == category]['img_path']\n",
    "        diff_imgs = list(set(img_names).difference(row_names))\n",
    "        print('Diff', len(diff_imgs))\n",
    "        \n",
    "        print(diff_imgs)\n",
    "    "
   ]
  },
  {
   "cell_type": "code",
   "execution_count": 7,
   "metadata": {
    "collapsed": true
   },
   "outputs": [],
   "source": [
    "df.to_csv(os.path.join(data_path, 'data.csv'), sep=';', encoding='utf-8', index=False)"
   ]
  },
  {
   "cell_type": "code",
   "execution_count": null,
   "metadata": {
    "collapsed": true
   },
   "outputs": [],
   "source": []
  }
 ],
 "metadata": {
  "kernelspec": {
   "display_name": "Python 3",
   "language": "python",
   "name": "python3"
  },
  "language_info": {
   "codemirror_mode": {
    "name": "ipython",
    "version": 3
   },
   "file_extension": ".py",
   "mimetype": "text/x-python",
   "name": "python",
   "nbconvert_exporter": "python",
   "pygments_lexer": "ipython3",
   "version": "3.6.3"
  }
 },
 "nbformat": 4,
 "nbformat_minor": 2
}
