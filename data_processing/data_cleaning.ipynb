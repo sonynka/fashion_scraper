{
 "cells": [
  {
   "cell_type": "code",
   "execution_count": 30,
   "metadata": {
    "collapsed": true,
    "scrolled": true
   },
   "outputs": [],
   "source": [
    "import pandas as pd\n",
    "import os\n",
    "import glob"
   ]
  },
  {
   "cell_type": "code",
   "execution_count": 31,
   "metadata": {
    "collapsed": true,
    "scrolled": true
   },
   "outputs": [],
   "source": [
    "data_path = '/Users/sonynka/HTW/MasterArbeit/data/fashionid//'"
   ]
  },
  {
   "cell_type": "code",
   "execution_count": 32,
   "metadata": {
    "collapsed": true
   },
   "outputs": [],
   "source": [
    "df = pd.read_csv(os.path.join(data_path, 'data.csv'), sep=';')"
   ]
  },
  {
   "cell_type": "code",
   "execution_count": 33,
   "metadata": {},
   "outputs": [
    {
     "data": {
      "text/html": [
       "<div>\n",
       "<style>\n",
       "    .dataframe thead tr:only-child th {\n",
       "        text-align: right;\n",
       "    }\n",
       "\n",
       "    .dataframe thead th {\n",
       "        text-align: left;\n",
       "    }\n",
       "\n",
       "    .dataframe tbody tr th {\n",
       "        vertical-align: top;\n",
       "    }\n",
       "</style>\n",
       "<table border=\"1\" class=\"dataframe\">\n",
       "  <thead>\n",
       "    <tr style=\"text-align: right;\">\n",
       "      <th></th>\n",
       "      <th>img_path</th>\n",
       "      <th>attributes</th>\n",
       "      <th>brand</th>\n",
       "      <th>category</th>\n",
       "      <th>color</th>\n",
       "      <th>id</th>\n",
       "      <th>img_url</th>\n",
       "      <th>model_img_urls</th>\n",
       "      <th>name</th>\n",
       "      <th>product_url</th>\n",
       "    </tr>\n",
       "  </thead>\n",
       "  <tbody>\n",
       "    <tr>\n",
       "      <th>0</th>\n",
       "      <td>blusen/203796.jpg</td>\n",
       "      <td>Damen Hemdbluse von Polo Ralph Lauren, Baumwol...</td>\n",
       "      <td>Polo Ralph Lauren</td>\n",
       "      <td>blusen</td>\n",
       "      <td>white</td>\n",
       "      <td>203796</td>\n",
       "      <td>https://img.fidcdn.net/r17/product/polo-ralph-...</td>\n",
       "      <td>https://img.fidcdn.net/r17/product/polo-ralph-...</td>\n",
       "      <td>Hemdbluse mit Logo-Stickerei</td>\n",
       "      <td>https://www.fashionid.de/polo-ralph-lauren/dam...</td>\n",
       "    </tr>\n",
       "    <tr>\n",
       "      <th>1</th>\n",
       "      <td>blusen/203931.jpg</td>\n",
       "      <td>Damen Hemdbluse von Polo Ralph Lauren, Reine B...</td>\n",
       "      <td>Polo Ralph Lauren</td>\n",
       "      <td>blusen</td>\n",
       "      <td>blue</td>\n",
       "      <td>203931</td>\n",
       "      <td>https://img.fidcdn.net/r17/product/polo-ralph-...</td>\n",
       "      <td>https://img.fidcdn.net/r17/product/polo-ralph-...</td>\n",
       "      <td>Custom Fit Hemdbluse mit Logo-Stickerei</td>\n",
       "      <td>https://www.fashionid.de/polo-ralph-lauren/dam...</td>\n",
       "    </tr>\n",
       "    <tr>\n",
       "      <th>2</th>\n",
       "      <td>blusen/203932.jpg</td>\n",
       "      <td>Damen Hemdbluse von Polo Ralph Lauren, Reine B...</td>\n",
       "      <td>Polo Ralph Lauren</td>\n",
       "      <td>blusen</td>\n",
       "      <td>pink</td>\n",
       "      <td>203932</td>\n",
       "      <td>https://img.fidcdn.net/r17/product/polo-ralph-...</td>\n",
       "      <td>https://img.fidcdn.net/r17/product/polo-ralph-...</td>\n",
       "      <td>Hemdbluse mit Button-Down-Kragen</td>\n",
       "      <td>https://www.fashionid.de/polo-ralph-lauren/dam...</td>\n",
       "    </tr>\n",
       "    <tr>\n",
       "      <th>3</th>\n",
       "      <td>blusen/203933.jpg</td>\n",
       "      <td>Damen Hemdbluse von Polo Ralph Lauren, Reine B...</td>\n",
       "      <td>Polo Ralph Lauren</td>\n",
       "      <td>blusen</td>\n",
       "      <td>white</td>\n",
       "      <td>203933</td>\n",
       "      <td>https://img.fidcdn.net/r17/product/polo-ralph-...</td>\n",
       "      <td>https://img.fidcdn.net/r17/product/polo-ralph-...</td>\n",
       "      <td>Custom Fit Hemdbluse mit Logo-Stickerei</td>\n",
       "      <td>https://www.fashionid.de/polo-ralph-lauren/dam...</td>\n",
       "    </tr>\n",
       "    <tr>\n",
       "      <th>4</th>\n",
       "      <td>blusen/203935.jpg</td>\n",
       "      <td>Damen Hemdbluse von Polo Ralph Lauren, Reine B...</td>\n",
       "      <td>Polo Ralph Lauren</td>\n",
       "      <td>blusen</td>\n",
       "      <td>blue</td>\n",
       "      <td>203935</td>\n",
       "      <td>https://img.fidcdn.net/r17/product/polo-ralph-...</td>\n",
       "      <td>https://img.fidcdn.net/r17/product/polo-ralph-...</td>\n",
       "      <td>Hemdbluse mit Streifenmuster</td>\n",
       "      <td>https://www.fashionid.de/polo-ralph-lauren/dam...</td>\n",
       "    </tr>\n",
       "  </tbody>\n",
       "</table>\n",
       "</div>"
      ],
      "text/plain": [
       "            img_path                                         attributes  \\\n",
       "0  blusen/203796.jpg  Damen Hemdbluse von Polo Ralph Lauren, Baumwol...   \n",
       "1  blusen/203931.jpg  Damen Hemdbluse von Polo Ralph Lauren, Reine B...   \n",
       "2  blusen/203932.jpg  Damen Hemdbluse von Polo Ralph Lauren, Reine B...   \n",
       "3  blusen/203933.jpg  Damen Hemdbluse von Polo Ralph Lauren, Reine B...   \n",
       "4  blusen/203935.jpg  Damen Hemdbluse von Polo Ralph Lauren, Reine B...   \n",
       "\n",
       "               brand category  color      id  \\\n",
       "0  Polo Ralph Lauren   blusen  white  203796   \n",
       "1  Polo Ralph Lauren   blusen   blue  203931   \n",
       "2  Polo Ralph Lauren   blusen   pink  203932   \n",
       "3  Polo Ralph Lauren   blusen  white  203933   \n",
       "4  Polo Ralph Lauren   blusen   blue  203935   \n",
       "\n",
       "                                             img_url  \\\n",
       "0  https://img.fidcdn.net/r17/product/polo-ralph-...   \n",
       "1  https://img.fidcdn.net/r17/product/polo-ralph-...   \n",
       "2  https://img.fidcdn.net/r17/product/polo-ralph-...   \n",
       "3  https://img.fidcdn.net/r17/product/polo-ralph-...   \n",
       "4  https://img.fidcdn.net/r17/product/polo-ralph-...   \n",
       "\n",
       "                                      model_img_urls  \\\n",
       "0  https://img.fidcdn.net/r17/product/polo-ralph-...   \n",
       "1  https://img.fidcdn.net/r17/product/polo-ralph-...   \n",
       "2  https://img.fidcdn.net/r17/product/polo-ralph-...   \n",
       "3  https://img.fidcdn.net/r17/product/polo-ralph-...   \n",
       "4  https://img.fidcdn.net/r17/product/polo-ralph-...   \n",
       "\n",
       "                                      name  \\\n",
       "0             Hemdbluse mit Logo-Stickerei   \n",
       "1  Custom Fit Hemdbluse mit Logo-Stickerei   \n",
       "2         Hemdbluse mit Button-Down-Kragen   \n",
       "3  Custom Fit Hemdbluse mit Logo-Stickerei   \n",
       "4             Hemdbluse mit Streifenmuster   \n",
       "\n",
       "                                         product_url  \n",
       "0  https://www.fashionid.de/polo-ralph-lauren/dam...  \n",
       "1  https://www.fashionid.de/polo-ralph-lauren/dam...  \n",
       "2  https://www.fashionid.de/polo-ralph-lauren/dam...  \n",
       "3  https://www.fashionid.de/polo-ralph-lauren/dam...  \n",
       "4  https://www.fashionid.de/polo-ralph-lauren/dam...  "
      ]
     },
     "execution_count": 33,
     "metadata": {},
     "output_type": "execute_result"
    }
   ],
   "source": [
    "df.head()"
   ]
  },
  {
   "cell_type": "code",
   "execution_count": 34,
   "metadata": {},
   "outputs": [
    {
     "name": "stdout",
     "output_type": "stream",
     "text": [
      "Data points 11857\n",
      "category\n",
      "blusen             1624\n",
      "hosen              1059\n",
      "jacken              710\n",
      "jeans               963\n",
      "kleider            2899\n",
      "pullover-strick    1914\n",
      "shirts             2688\n",
      "Name: img_path, dtype: int64\n"
     ]
    }
   ],
   "source": [
    "print('Data points', df.shape[0])\n",
    "print(df.groupby('category')['img_path'].count())"
   ]
  },
  {
   "cell_type": "markdown",
   "metadata": {},
   "source": [
    "# Clean data\n",
    "## Remove Duplicates"
   ]
  },
  {
   "cell_type": "markdown",
   "metadata": {},
   "source": [
    "Drop duplicated rows which could occured during scraping data and appending to csvs.\n",
    "\n",
    "If the count of img_path is more than unique, drop the duplicated img_path. This can occurr, if the same image is assigned to two different colors. In that case, just keep the first color.\n",
    "\n",
    "*Note: We apply this to img_path, since it is acceptable that img_url is duplicated -> one image can be assigned to two different subcategories, such as Kurze Kleider und Cocktailkleider. If one image should only have one subcategory assigned, duplicated should be dropped on img_url not on img_path.*"
   ]
  },
  {
   "cell_type": "code",
   "execution_count": 35,
   "metadata": {},
   "outputs": [
    {
     "name": "stdout",
     "output_type": "stream",
     "text": [
      "Shape (11857, 10)\n",
      "Without duplicates (11857, 10)\n"
     ]
    }
   ],
   "source": [
    "print('Shape', df.shape)\n",
    "print('Without duplicates', df.drop_duplicates().shape)"
   ]
  },
  {
   "cell_type": "code",
   "execution_count": 36,
   "metadata": {},
   "outputs": [
    {
     "data": {
      "text/html": [
       "<div>\n",
       "<style>\n",
       "    .dataframe thead tr:only-child th {\n",
       "        text-align: right;\n",
       "    }\n",
       "\n",
       "    .dataframe thead th {\n",
       "        text-align: left;\n",
       "    }\n",
       "\n",
       "    .dataframe tbody tr th {\n",
       "        vertical-align: top;\n",
       "    }\n",
       "</style>\n",
       "<table border=\"1\" class=\"dataframe\">\n",
       "  <thead>\n",
       "    <tr style=\"text-align: right;\">\n",
       "      <th></th>\n",
       "      <th>img_path</th>\n",
       "      <th>attributes</th>\n",
       "      <th>brand</th>\n",
       "      <th>category</th>\n",
       "      <th>color</th>\n",
       "      <th>id</th>\n",
       "      <th>img_url</th>\n",
       "      <th>model_img_urls</th>\n",
       "      <th>name</th>\n",
       "      <th>product_url</th>\n",
       "    </tr>\n",
       "  </thead>\n",
       "  <tbody>\n",
       "  </tbody>\n",
       "</table>\n",
       "</div>"
      ],
      "text/plain": [
       "Empty DataFrame\n",
       "Columns: [img_path, attributes, brand, category, color, id, img_url, model_img_urls, name, product_url]\n",
       "Index: []"
      ]
     },
     "execution_count": 36,
     "metadata": {},
     "output_type": "execute_result"
    }
   ],
   "source": [
    "df[df.img_path.isin(df[df['img_path'].duplicated()]['img_path'])].sort_values('img_path')"
   ]
  },
  {
   "cell_type": "code",
   "execution_count": 37,
   "metadata": {
    "collapsed": true
   },
   "outputs": [],
   "source": [
    "df = df.groupby('img_path').first().reset_index()"
   ]
  },
  {
   "cell_type": "markdown",
   "metadata": {},
   "source": [
    "## Check images and CSVs consistency\n",
    "### CSV -> image path check\n",
    "Make sure all the image paths in the csvs actually exist in the folder structure."
   ]
  },
  {
   "cell_type": "code",
   "execution_count": 38,
   "metadata": {},
   "outputs": [
    {
     "name": "stdout",
     "output_type": "stream",
     "text": [
      "Not existing images 0\n",
      "Empty DataFrame\n",
      "Columns: [img_path, attributes, brand, category, color, id, img_url, model_img_urls, name, product_url, exists]\n",
      "Index: []\n"
     ]
    }
   ],
   "source": [
    "df['exists'] = [True if os.path.exists(os.path.join(data_path, str(x))) else False for x in df['img_path']]\n",
    "not_exist_imgs_count = df[df['exists'] == False].shape[0]\n",
    "print('Not existing images', not_exist_imgs_count)\n",
    "print(df[df['exists'] == False])"
   ]
  },
  {
   "cell_type": "code",
   "execution_count": 39,
   "metadata": {
    "collapsed": true
   },
   "outputs": [],
   "source": [
    "df = df[df['exists'] == True]"
   ]
  },
  {
   "cell_type": "code",
   "execution_count": 40,
   "metadata": {
    "collapsed": true
   },
   "outputs": [],
   "source": [
    "df = df.drop('exists', axis=1)"
   ]
  },
  {
   "cell_type": "markdown",
   "metadata": {},
   "source": [
    "### image path -> CSV check\n",
    "Make sure all the images in the folders have an entry in the csv."
   ]
  },
  {
   "cell_type": "code",
   "execution_count": 41,
   "metadata": {},
   "outputs": [
    {
     "name": "stdout",
     "output_type": "stream",
     "text": [
      "jacken\n",
      "Diff 0\n",
      "Diff 0\n",
      "blusen\n",
      "Diff 0\n",
      "Diff 0\n",
      "pullover-strick\n",
      "Diff 0\n",
      "Diff 0\n",
      "shirts\n",
      "Diff 0\n",
      "Diff 0\n",
      "jeans\n",
      "Diff 0\n",
      "Diff 0\n",
      "roecke\n",
      "Diff 0\n",
      "Diff 0\n",
      "kleider\n",
      "Diff 0\n",
      "Diff 0\n",
      "hosen\n",
      "Diff 0\n",
      "Diff 0\n"
     ]
    }
   ],
   "source": [
    "for category in os.listdir(data_path):\n",
    "    \n",
    "    category_path = os.path.join(data_path, category)\n",
    "    if os.path.isdir(category_path):\n",
    "        print(category)\n",
    "        img_names = [os.path.join(category, o) for o in os.listdir(category_path)]\n",
    "        row_names = df[df['category'] == category]['img_path']\n",
    "        diff_imgs = list(set(img_names).difference(row_names))\n",
    "        print('Diff', len(diff_imgs))\n",
    "        \n",
    "#         for img in diff_imgs:\n",
    "#             os.remove(os.path.join(data_path, img))\n",
    "            \n",
    "        print('Diff', len(diff_imgs))\n",
    "    "
   ]
  },
  {
   "cell_type": "code",
   "execution_count": 29,
   "metadata": {
    "collapsed": true
   },
   "outputs": [],
   "source": [
    "df.to_csv(os.path.join(data_path, 'data.csv'), sep=';', encoding='utf-8', index=False)"
   ]
  },
  {
   "cell_type": "code",
   "execution_count": null,
   "metadata": {},
   "outputs": [],
   "source": [
    "df.head()"
   ]
  },
  {
   "cell_type": "code",
   "execution_count": null,
   "metadata": {
    "collapsed": true
   },
   "outputs": [],
   "source": []
  }
 ],
 "metadata": {
  "kernelspec": {
   "display_name": "Python 3",
   "language": "python",
   "name": "python3"
  },
  "language_info": {
   "codemirror_mode": {
    "name": "ipython",
    "version": 3
   },
   "file_extension": ".py",
   "mimetype": "text/x-python",
   "name": "python",
   "nbconvert_exporter": "python",
   "pygments_lexer": "ipython3",
   "version": "3.6.3"
  }
 },
 "nbformat": 4,
 "nbformat_minor": 2
}
