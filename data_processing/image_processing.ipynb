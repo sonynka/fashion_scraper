{
 "cells": [
  {
   "cell_type": "code",
   "execution_count": 1,
   "metadata": {
    "collapsed": true
   },
   "outputs": [],
   "source": [
    "from PIL import Image, ImageOps\n",
    "import os\n",
    "import numpy as np"
   ]
  },
  {
   "cell_type": "markdown",
   "metadata": {},
   "source": [
    "# Image Processing\n",
    "For all the images in the given data folder, it does the following:\n",
    "- removes alpha channel, if given\n",
    "- pads the image so that is has squared shape\n",
    "- resizes image\n",
    "- if the image is grayscale, it adds a third channel\n",
    "- overwrites the processed image"
   ]
  },
  {
   "cell_type": "code",
   "execution_count": 11,
   "metadata": {
    "collapsed": true
   },
   "outputs": [],
   "source": [
    "data = '../../../data/fashion/dresses'"
   ]
  },
  {
   "cell_type": "code",
   "execution_count": 3,
   "metadata": {
    "collapsed": true
   },
   "outputs": [],
   "source": [
    "def pad_image(img):\n",
    "\n",
    "    width, height = img.size\n",
    "    \n",
    "    max_size = max(width, height)\n",
    "    \n",
    "    pad_height = max_size - height\n",
    "    pad_width = max_size - width\n",
    "        \n",
    "    padding = (pad_width // 2, \n",
    "               pad_height // 2, \n",
    "               pad_width - (pad_width // 2), \n",
    "               pad_height - (pad_height // 2))\n",
    "        \n",
    "    padded_img = ImageOps.expand(img, padding, fill=(255,255,255))\n",
    "    return padded_img"
   ]
  },
  {
   "cell_type": "code",
   "execution_count": 4,
   "metadata": {
    "collapsed": true
   },
   "outputs": [],
   "source": [
    "def remove_alpha(img):\n",
    "    \n",
    "    if img.mode == 'RGBA':\n",
    "\n",
    "        img.load()  # required for png.split()\n",
    "        image_jpeg = Image.new(\"RGB\", img.size, (255, 255, 255))\n",
    "        image_jpeg.paste(img, mask=img.split()[3])  # 3 is the alpha channel\n",
    "        img = image_jpeg\n",
    "        \n",
    "    return img"
   ]
  },
  {
   "cell_type": "code",
   "execution_count": 5,
   "metadata": {
    "collapsed": true
   },
   "outputs": [],
   "source": [
    "def resize_image(img, size):\n",
    "    return img.resize(size, Image.ANTIALIAS)"
   ]
  },
  {
   "cell_type": "code",
   "execution_count": 12,
   "metadata": {},
   "outputs": [
    {
     "name": "stdout",
     "output_type": "stream",
     "text": [
      "Directory: ../../../data/fashion/dresses\n",
      "processed images:  0\n",
      "processed images:  1000\n",
      "processed images:  2000\n",
      "processed images:  3000\n",
      "processed images:  4000\n",
      "processed images:  5000\n",
      "processed images:  6000\n",
      "processed images:  7000\n",
      "processed images:  8000\n",
      "processed images:  9000\n",
      "processed images:  10000\n",
      "processed images:  11000\n",
      "processed images:  12000\n"
     ]
    }
   ],
   "source": [
    "for dirpath, dirnames, filenames in os.walk(data):\n",
    "    \n",
    "    images = [f for f in filenames if f.endswith(\".jpg\")]\n",
    "    print('Directory: {}'.format(dirpath, len(images)))\n",
    "    \n",
    "    for idx, filename in enumerate(images):\n",
    "        if idx % 1000 == 0:\n",
    "            print('processed images: ', idx)\n",
    "        \n",
    "        try:\n",
    "        \n",
    "            img_path = os.path.join(dirpath, filename)\n",
    "            img = Image.open(img_path)\n",
    "            \n",
    "            if img.size == (256, 256):\n",
    "                continue\n",
    "            else:\n",
    "                img = remove_alpha(img)\n",
    "                img = pad_image(img)\n",
    "                img = resize_image(img, size=[256,256])\n",
    "\n",
    "                img.save(img_path)\n",
    "            \n",
    "        except Exception as e:\n",
    "            print(filename, e)"
   ]
  },
  {
   "cell_type": "code",
   "execution_count": 9,
   "metadata": {},
   "outputs": [
    {
     "name": "stdout",
     "output_type": "stream",
     "text": [
      "Directory: ../../../data/fashion/dresses\n",
      "processed images:  0\n",
      "8aa61dd0a0b32721b388c913fc79631d.jpg (506, 400)\n",
      "(506, 400, 3)\n",
      "processed images:  1000\n",
      "3c6ca61c52aed8557b66e1fe6f70a105.jpg (575, 400)\n",
      "(575, 400, 3)\n",
      "4b885dadd4b449d04b5629c011225074.jpg (575, 400)\n",
      "(575, 400, 3)\n",
      "processed images:  2000\n",
      "processed images:  3000\n",
      "processed images:  4000\n",
      "e38e4172a0e1e410be71ab9c2e079556.jpg (533, 400)\n",
      "(533, 400, 3)\n",
      "ff2d22b07f83d589650eff9b69091cd2.jpg (576, 400)\n",
      "(576, 400, 3)\n",
      "processed images:  5000\n",
      "145f0278f87ffd12019c39296ecece3c.jpg (533, 399)\n",
      "(533, 399, 3)\n",
      "processed images:  6000\n",
      "ce0a5a72b14ad802af917593770978fb.jpg (575, 400)\n",
      "(575, 400, 3)\n",
      "ab3bc8f476d1f6c803ce6b7fb8a5a903.jpg (575, 400)\n",
      "(575, 400, 3)\n",
      "processed images:  7000\n",
      "42e425ec2940e0f1fd07add30e06b04c.jpg (575, 400)\n",
      "(575, 400, 3)\n",
      "a491de30a7688408d1b2e98a744b92e8.jpg (533, 400)\n",
      "(533, 400, 3)\n",
      "processed images:  8000\n",
      "processed images:  9000\n",
      "processed images:  10000\n",
      "processed images:  11000\n",
      "b02f0fd3a59c2ce75e1491cca464ff30.jpg (575, 400)\n",
      "(575, 400, 3)\n",
      "7ae12ab08c3808f7120853133b418d11.jpg (506, 400)\n",
      "(506, 400, 3)\n",
      "processed images:  12000\n"
     ]
    }
   ],
   "source": [
    "for dirpath, dirnames, filenames in os.walk(data):\n",
    "    \n",
    "    images = [f for f in filenames if f.endswith(\".jpg\")]\n",
    "    print('Directory: {}'.format(dirpath, len(images)))\n",
    "    \n",
    "    for idx, filename in enumerate(images):\n",
    "        if idx % 1000 == 0:\n",
    "            print('processed images: ', idx)\n",
    "            \n",
    "        try:\n",
    "        \n",
    "            img_path = os.path.join(dirpath, filename)\n",
    "            img = Image.open(img_path)\n",
    "            data = np.asarray(img)\n",
    "            \n",
    "            if data.shape != (256, 256, 3):\n",
    "                print(filename, data.shape)\n",
    "                data_RGB = np.repeat(data[:, :, np.newaxis], 3, axis=2)\n",
    "                print(data_RGB.shape)\n",
    "                img_RGB = Image.fromarray(data_RGB)\n",
    "                img_RGB.save(img_path)\n",
    "                \n",
    "            \n",
    "        except Exception as e:\n",
    "            print(filename, e)"
   ]
  },
  {
   "cell_type": "code",
   "execution_count": null,
   "metadata": {
    "collapsed": true
   },
   "outputs": [],
   "source": []
  }
 ],
 "metadata": {
  "kernelspec": {
   "display_name": "Python 3",
   "language": "python",
   "name": "python3"
  },
  "language_info": {
   "codemirror_mode": {
    "name": "ipython",
    "version": 3
   },
   "file_extension": ".py",
   "mimetype": "text/x-python",
   "name": "python",
   "nbconvert_exporter": "python",
   "pygments_lexer": "ipython3",
   "version": "3.6.3"
  }
 },
 "nbformat": 4,
 "nbformat_minor": 2
}
