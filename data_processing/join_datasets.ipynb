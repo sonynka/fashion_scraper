{
 "cells": [
  {
   "cell_type": "code",
   "execution_count": 4,
   "metadata": {
    "collapsed": true
   },
   "outputs": [],
   "source": [
    "import pandas as pd\n",
    "import os"
   ]
  },
  {
   "cell_type": "markdown",
   "metadata": {},
   "source": [
    "# Join Datasets\n",
    "Unions the aboutyou dataset and fashionID dataset together, based on the columns that they have in common."
   ]
  },
  {
   "cell_type": "code",
   "execution_count": 5,
   "metadata": {},
   "outputs": [],
   "source": [
    "df_about = pd.read_csv('../../../data/aboutyou/img_attr.csv', sep='\\t', encoding='utf-8')\n",
    "df_fashion = pd.read_csv('../../../data/fashionid/img_attr.csv', sep='\\t', encoding='utf-8')"
   ]
  },
  {
   "cell_type": "code",
   "execution_count": 10,
   "metadata": {},
   "outputs": [
    {
     "name": "stdout",
     "output_type": "stream",
     "text": [
      "['color_pink', 'category_kleider', 'color_white', 'color_blue', 'ärmellänge_dreiviertelarm', 'color_green', 'img_path', 'color_red', 'muster_spitze', 'muster_gestreift', 'color_yellow', 'ärmellänge_viertelarm', 'color_black', 'ärmellänge_ärmellos', 'muster_geblümt/floral', 'ärmellänge_langarm', 'color_beige', 'muster_all-over-muster']\n"
     ]
    }
   ],
   "source": [
    "common_cols = list(set(df_about.columns).intersection(set(df_fashion.columns)))\n",
    "print(common_cols)"
   ]
  },
  {
   "cell_type": "code",
   "execution_count": 11,
   "metadata": {
    "collapsed": true
   },
   "outputs": [],
   "source": [
    "df = df_about[common_cols].append(df_fashion[common_cols])"
   ]
  },
  {
   "cell_type": "code",
   "execution_count": null,
   "metadata": {
    "collapsed": true
   },
   "outputs": [],
   "source": [
    "df.to_csv('../../../data/img_attr_merged.csv', sep='\\t', index=False, encoding='utf-9')"
   ]
  }
 ],
 "metadata": {
  "kernelspec": {
   "display_name": "Python 3",
   "language": "python",
   "name": "python3"
  },
  "language_info": {
   "codemirror_mode": {
    "name": "ipython",
    "version": 3
   },
   "file_extension": ".py",
   "mimetype": "text/x-python",
   "name": "python",
   "nbconvert_exporter": "python",
   "pygments_lexer": "ipython3",
   "version": "3.6.3"
  }
 },
 "nbformat": 4,
 "nbformat_minor": 2
}
