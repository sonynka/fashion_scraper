{
 "cells": [
  {
   "cell_type": "code",
   "execution_count": null,
   "metadata": {
    "collapsed": true
   },
   "outputs": [],
   "source": [
    "import pandas as pd\n",
    "import os\n",
    "import requests\n",
    "from PIL import Image\n",
    "import io\n",
    "import random\n",
    "\n",
    "pd.set_option('max.colwidth', 100)"
   ]
  },
  {
   "cell_type": "code",
   "execution_count": null,
   "metadata": {},
   "outputs": [],
   "source": [
    "df = pd.read_csv('../../../data/zalando/data.csv', encoding='utf-8', sep=';')\n",
    "df.head()"
   ]
  },
  {
   "cell_type": "code",
   "execution_count": null,
   "metadata": {},
   "outputs": [],
   "source": [
    "model_urls = df[['category', 'img_path', 'model_img_urls']]\n",
    "model_urls['model_img_urls'] = model_urls['model_img_urls'].apply(lambda x: str(x).split(', '))"
   ]
  },
  {
   "cell_type": "code",
   "execution_count": null,
   "metadata": {},
   "outputs": [],
   "source": [
    "model_urls.head()"
   ]
  },
  {
   "cell_type": "code",
   "execution_count": null,
   "metadata": {
    "collapsed": true
   },
   "outputs": [],
   "source": [
    "model_urls = model_urls.groupby('category').sum()"
   ]
  },
  {
   "cell_type": "code",
   "execution_count": null,
   "metadata": {
    "collapsed": true
   },
   "outputs": [],
   "source": [
    "data_folder = '../../../data/zalando_models'\n",
    "img_width = 400\n",
    "\n",
    "if not os.path.exists(data_folder):\n",
    "    os.makedirs(data_folder)"
   ]
  },
  {
   "cell_type": "code",
   "execution_count": null,
   "metadata": {
    "collapsed": true
   },
   "outputs": [],
   "source": [
    "def download_image(img_data, img_filepath, img_width):\n",
    "    try:\n",
    "        img = Image.open(io.BytesIO(img_data.content))\n",
    "        img_ratio = img.size[0] / img.size[1]\n",
    "        new_size = [img_width, int(img_width/img_ratio)]\n",
    "        img = img.resize(new_size, Image.ANTIALIAS)\n",
    "        img.save(img_filepath)\n",
    "    except:\n",
    "        print('Problem with downloading image: {}'.format(img_filepath))"
   ]
  },
  {
   "cell_type": "code",
   "execution_count": null,
   "metadata": {
    "collapsed": true
   },
   "outputs": [],
   "source": [
    "def get_response(url):\n",
    "    \n",
    "    response = None\n",
    "    \n",
    "    try:\n",
    "        response = requests.get(url, timeout=10)\n",
    "        return response\n",
    "    except:\n",
    "        print(\"Problem downloading response content for: {} Response Code: {}\".format(url, response.status_code))"
   ]
  },
  {
   "cell_type": "code",
   "execution_count": null,
   "metadata": {
    "collapsed": true
   },
   "outputs": [],
   "source": [
    "categories = ['pullover-und-strickjacken']"
   ]
  },
  {
   "cell_type": "code",
   "execution_count": null,
   "metadata": {},
   "outputs": [],
   "source": [
    "for category in categories:\n",
    "    print('-' * 50)\n",
    "    print('Downloading category {}'.format(category))\n",
    "\n",
    "    cat_folder = os.path.join(data_folder, category)\n",
    "    if not os.path.exists(cat_folder):\n",
    "        os.makedirs(cat_folder)\n",
    "\n",
    "    img_urls = model_urls.loc[category].model_img_urls\n",
    "    print('Found {} images'.format(len(img_urls)))\n",
    "    \n",
    "    for idx, img_url in enumerate(img_urls):\n",
    "        if idx % 1000 == 0:\n",
    "            print('Downloaded images: ', idx)\n",
    "        \n",
    "        img_path = img_url.split('/')[-1]\n",
    "        img_filepath = os.path.join(cat_folder, img_path)\n",
    "\n",
    "        if not os.path.exists(img_filepath):\n",
    "            try:\n",
    "                img_data = get_response(img_url)\n",
    "                if img_data.status_code == requests.codes.ok:\n",
    "                    download_image(img_data, img_filepath, img_width)\n",
    "            except:\n",
    "                print('Problem downloading image: {}'.format(img_filepath))\n",
    "                \n",
    "        else:\n",
    "            print('image already exists {}'.format(img_filepath))\n",
    "          "
   ]
  },
  {
   "cell_type": "code",
   "execution_count": null,
   "metadata": {
    "collapsed": true
   },
   "outputs": [],
   "source": []
  }
 ],
 "metadata": {
  "kernelspec": {
   "display_name": "Python 3",
   "language": "python",
   "name": "python3"
  },
  "language_info": {
   "codemirror_mode": {
    "name": "ipython",
    "version": 3
   },
   "file_extension": ".py",
   "mimetype": "text/x-python",
   "name": "python",
   "nbconvert_exporter": "python",
   "pygments_lexer": "ipython3",
   "version": "3.6.3"
  }
 },
 "nbformat": 4,
 "nbformat_minor": 2
}
