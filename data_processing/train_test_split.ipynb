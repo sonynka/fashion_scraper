{
 "cells": [
  {
   "cell_type": "code",
   "execution_count": 1,
   "metadata": {
    "collapsed": true
   },
   "outputs": [],
   "source": [
    "import pandas as pd\n",
    "import os"
   ]
  },
  {
   "cell_type": "code",
   "execution_count": 2,
   "metadata": {
    "collapsed": true
   },
   "outputs": [],
   "source": [
    "df = pd.read_csv('../../../data/fashion/data.csv', sep=';')"
   ]
  },
  {
   "cell_type": "code",
   "execution_count": 3,
   "metadata": {},
   "outputs": [
    {
     "data": {
      "text/html": [
       "<div>\n",
       "<style>\n",
       "    .dataframe thead tr:only-child th {\n",
       "        text-align: right;\n",
       "    }\n",
       "\n",
       "    .dataframe thead th {\n",
       "        text-align: left;\n",
       "    }\n",
       "\n",
       "    .dataframe tbody tr th {\n",
       "        vertical-align: top;\n",
       "    }\n",
       "</style>\n",
       "<table border=\"1\" class=\"dataframe\">\n",
       "  <thead>\n",
       "    <tr style=\"text-align: right;\">\n",
       "      <th></th>\n",
       "      <th>id</th>\n",
       "      <th>img_path</th>\n",
       "      <th>attributes</th>\n",
       "      <th>brand</th>\n",
       "      <th>category</th>\n",
       "      <th>color</th>\n",
       "      <th>img_url</th>\n",
       "      <th>model_img_urls</th>\n",
       "      <th>name</th>\n",
       "      <th>product_url</th>\n",
       "      <th>sleeve_length</th>\n",
       "      <th>length</th>\n",
       "      <th>neckline</th>\n",
       "      <th>pattern</th>\n",
       "      <th>fit</th>\n",
       "    </tr>\n",
       "  </thead>\n",
       "  <tbody>\n",
       "    <tr>\n",
       "      <th>count</th>\n",
       "      <td>92220</td>\n",
       "      <td>92220</td>\n",
       "      <td>92220</td>\n",
       "      <td>92220</td>\n",
       "      <td>92220</td>\n",
       "      <td>92220</td>\n",
       "      <td>92220</td>\n",
       "      <td>91960</td>\n",
       "      <td>92220</td>\n",
       "      <td>49598</td>\n",
       "      <td>46649</td>\n",
       "      <td>65733</td>\n",
       "      <td>41100</td>\n",
       "      <td>71966</td>\n",
       "      <td>74022</td>\n",
       "    </tr>\n",
       "    <tr>\n",
       "      <th>unique</th>\n",
       "      <td>92220</td>\n",
       "      <td>92220</td>\n",
       "      <td>92220</td>\n",
       "      <td>1089</td>\n",
       "      <td>7</td>\n",
       "      <td>9</td>\n",
       "      <td>91483</td>\n",
       "      <td>91267</td>\n",
       "      <td>40264</td>\n",
       "      <td>48971</td>\n",
       "      <td>4</td>\n",
       "      <td>5</td>\n",
       "      <td>6</td>\n",
       "      <td>6</td>\n",
       "      <td>3</td>\n",
       "    </tr>\n",
       "    <tr>\n",
       "      <th>top</th>\n",
       "      <td>EV421D0I8-Q11</td>\n",
       "      <td>tops/4062105335940.jpg</td>\n",
       "      <td>Damen Kleid von ONLY, Baumwollmischung mit Str...</td>\n",
       "      <td>ONLY</td>\n",
       "      <td>pants</td>\n",
       "      <td>blue</td>\n",
       "      <td>https://cdn.aboutstatic.com/file/88c3ad5d2d588...</td>\n",
       "      <td>https://cdn.aboutstatic.com/file/22b10144c6d1a...</td>\n",
       "      <td>Bluse</td>\n",
       "      <td>https://www.aboutyou.de/p/vila/shirt-visommi-3...</td>\n",
       "      <td>long</td>\n",
       "      <td>normal</td>\n",
       "      <td>round</td>\n",
       "      <td>unicolors</td>\n",
       "      <td>normal</td>\n",
       "    </tr>\n",
       "    <tr>\n",
       "      <th>freq</th>\n",
       "      <td>1</td>\n",
       "      <td>1</td>\n",
       "      <td>1</td>\n",
       "      <td>3506</td>\n",
       "      <td>18717</td>\n",
       "      <td>24882</td>\n",
       "      <td>4</td>\n",
       "      <td>3</td>\n",
       "      <td>2720</td>\n",
       "      <td>3</td>\n",
       "      <td>23762</td>\n",
       "      <td>26214</td>\n",
       "      <td>28129</td>\n",
       "      <td>42321</td>\n",
       "      <td>37783</td>\n",
       "    </tr>\n",
       "  </tbody>\n",
       "</table>\n",
       "</div>"
      ],
      "text/plain": [
       "                   id                img_path  \\\n",
       "count           92220                   92220   \n",
       "unique          92220                   92220   \n",
       "top     EV421D0I8-Q11  tops/4062105335940.jpg   \n",
       "freq                1                       1   \n",
       "\n",
       "                                               attributes  brand category  \\\n",
       "count                                               92220  92220    92220   \n",
       "unique                                              92220   1089        7   \n",
       "top     Damen Kleid von ONLY, Baumwollmischung mit Str...   ONLY    pants   \n",
       "freq                                                    1   3506    18717   \n",
       "\n",
       "        color                                            img_url  \\\n",
       "count   92220                                              92220   \n",
       "unique      9                                              91483   \n",
       "top      blue  https://cdn.aboutstatic.com/file/88c3ad5d2d588...   \n",
       "freq    24882                                                  4   \n",
       "\n",
       "                                           model_img_urls   name  \\\n",
       "count                                               91960  92220   \n",
       "unique                                              91267  40264   \n",
       "top     https://cdn.aboutstatic.com/file/22b10144c6d1a...  Bluse   \n",
       "freq                                                    3   2720   \n",
       "\n",
       "                                              product_url sleeve_length  \\\n",
       "count                                               49598         46649   \n",
       "unique                                              48971             4   \n",
       "top     https://www.aboutyou.de/p/vila/shirt-visommi-3...          long   \n",
       "freq                                                    3         23762   \n",
       "\n",
       "        length neckline    pattern     fit  \n",
       "count    65733    41100      71966   74022  \n",
       "unique       5        6          6       3  \n",
       "top     normal    round  unicolors  normal  \n",
       "freq     26214    28129      42321   37783  "
      ]
     },
     "execution_count": 3,
     "metadata": {},
     "output_type": "execute_result"
    }
   ],
   "source": [
    "df.describe()"
   ]
  },
  {
   "cell_type": "code",
   "execution_count": 4,
   "metadata": {},
   "outputs": [
    {
     "data": {
      "text/plain": [
       "category\n",
       "blouses     10797\n",
       "dresses     15348\n",
       "jackets      7251\n",
       "knitwear    18277\n",
       "pants       18717\n",
       "skirts       4888\n",
       "tops        16942\n",
       "Name: id, dtype: int64"
      ]
     },
     "execution_count": 4,
     "metadata": {},
     "output_type": "execute_result"
    }
   ],
   "source": [
    "df.groupby(['category'])['id'].nunique()"
   ]
  },
  {
   "cell_type": "code",
   "execution_count": 5,
   "metadata": {},
   "outputs": [
    {
     "data": {
      "text/plain": [
       "color\n",
       "beige      2985\n",
       "black     22625\n",
       "blue      24882\n",
       "gray       7255\n",
       "green      5368\n",
       "pink       7808\n",
       "red        5859\n",
       "white     13992\n",
       "yellow     1446\n",
       "Name: id, dtype: int64"
      ]
     },
     "execution_count": 5,
     "metadata": {},
     "output_type": "execute_result"
    }
   ],
   "source": [
    "df.groupby('color')['id'].nunique()"
   ]
  },
  {
   "cell_type": "code",
   "execution_count": 6,
   "metadata": {},
   "outputs": [
    {
     "data": {
      "text/html": [
       "<div>\n",
       "<style>\n",
       "    .dataframe thead tr:only-child th {\n",
       "        text-align: right;\n",
       "    }\n",
       "\n",
       "    .dataframe thead th {\n",
       "        text-align: left;\n",
       "    }\n",
       "\n",
       "    .dataframe tbody tr th {\n",
       "        vertical-align: top;\n",
       "    }\n",
       "</style>\n",
       "<table border=\"1\" class=\"dataframe\">\n",
       "  <thead>\n",
       "    <tr style=\"text-align: right;\">\n",
       "      <th></th>\n",
       "      <th>id</th>\n",
       "      <th>img_path</th>\n",
       "      <th>attributes</th>\n",
       "      <th>brand</th>\n",
       "      <th>category</th>\n",
       "      <th>color</th>\n",
       "      <th>img_url</th>\n",
       "      <th>model_img_urls</th>\n",
       "      <th>name</th>\n",
       "      <th>product_url</th>\n",
       "      <th>sleeve_length</th>\n",
       "      <th>length</th>\n",
       "      <th>neckline</th>\n",
       "      <th>pattern</th>\n",
       "      <th>fit</th>\n",
       "    </tr>\n",
       "  </thead>\n",
       "  <tbody>\n",
       "    <tr>\n",
       "      <th>count</th>\n",
       "      <td>92220</td>\n",
       "      <td>92220</td>\n",
       "      <td>92220</td>\n",
       "      <td>92220</td>\n",
       "      <td>92220</td>\n",
       "      <td>92220</td>\n",
       "      <td>92220</td>\n",
       "      <td>91960</td>\n",
       "      <td>92220</td>\n",
       "      <td>49598</td>\n",
       "      <td>46649</td>\n",
       "      <td>65733</td>\n",
       "      <td>41100</td>\n",
       "      <td>71966</td>\n",
       "      <td>74022</td>\n",
       "    </tr>\n",
       "    <tr>\n",
       "      <th>unique</th>\n",
       "      <td>92220</td>\n",
       "      <td>92220</td>\n",
       "      <td>92220</td>\n",
       "      <td>1089</td>\n",
       "      <td>7</td>\n",
       "      <td>9</td>\n",
       "      <td>91483</td>\n",
       "      <td>91267</td>\n",
       "      <td>40264</td>\n",
       "      <td>48971</td>\n",
       "      <td>4</td>\n",
       "      <td>5</td>\n",
       "      <td>6</td>\n",
       "      <td>6</td>\n",
       "      <td>3</td>\n",
       "    </tr>\n",
       "    <tr>\n",
       "      <th>top</th>\n",
       "      <td>EV421D0I8-Q11</td>\n",
       "      <td>tops/4062105335940.jpg</td>\n",
       "      <td>Damen Kleid von ONLY, Baumwollmischung mit Str...</td>\n",
       "      <td>ONLY</td>\n",
       "      <td>pants</td>\n",
       "      <td>blue</td>\n",
       "      <td>https://cdn.aboutstatic.com/file/88c3ad5d2d588...</td>\n",
       "      <td>https://cdn.aboutstatic.com/file/22b10144c6d1a...</td>\n",
       "      <td>Bluse</td>\n",
       "      <td>https://www.aboutyou.de/p/vila/shirt-visommi-3...</td>\n",
       "      <td>long</td>\n",
       "      <td>normal</td>\n",
       "      <td>round</td>\n",
       "      <td>unicolors</td>\n",
       "      <td>normal</td>\n",
       "    </tr>\n",
       "    <tr>\n",
       "      <th>freq</th>\n",
       "      <td>1</td>\n",
       "      <td>1</td>\n",
       "      <td>1</td>\n",
       "      <td>3506</td>\n",
       "      <td>18717</td>\n",
       "      <td>24882</td>\n",
       "      <td>4</td>\n",
       "      <td>3</td>\n",
       "      <td>2720</td>\n",
       "      <td>3</td>\n",
       "      <td>23762</td>\n",
       "      <td>26214</td>\n",
       "      <td>28129</td>\n",
       "      <td>42321</td>\n",
       "      <td>37783</td>\n",
       "    </tr>\n",
       "  </tbody>\n",
       "</table>\n",
       "</div>"
      ],
      "text/plain": [
       "                   id                img_path  \\\n",
       "count           92220                   92220   \n",
       "unique          92220                   92220   \n",
       "top     EV421D0I8-Q11  tops/4062105335940.jpg   \n",
       "freq                1                       1   \n",
       "\n",
       "                                               attributes  brand category  \\\n",
       "count                                               92220  92220    92220   \n",
       "unique                                              92220   1089        7   \n",
       "top     Damen Kleid von ONLY, Baumwollmischung mit Str...   ONLY    pants   \n",
       "freq                                                    1   3506    18717   \n",
       "\n",
       "        color                                            img_url  \\\n",
       "count   92220                                              92220   \n",
       "unique      9                                              91483   \n",
       "top      blue  https://cdn.aboutstatic.com/file/88c3ad5d2d588...   \n",
       "freq    24882                                                  4   \n",
       "\n",
       "                                           model_img_urls   name  \\\n",
       "count                                               91960  92220   \n",
       "unique                                              91267  40264   \n",
       "top     https://cdn.aboutstatic.com/file/22b10144c6d1a...  Bluse   \n",
       "freq                                                    3   2720   \n",
       "\n",
       "                                              product_url sleeve_length  \\\n",
       "count                                               49598         46649   \n",
       "unique                                              48971             4   \n",
       "top     https://www.aboutyou.de/p/vila/shirt-visommi-3...          long   \n",
       "freq                                                    3         23762   \n",
       "\n",
       "        length neckline    pattern     fit  \n",
       "count    65733    41100      71966   74022  \n",
       "unique       5        6          6       3  \n",
       "top     normal    round  unicolors  normal  \n",
       "freq     26214    28129      42321   37783  "
      ]
     },
     "execution_count": 6,
     "metadata": {},
     "output_type": "execute_result"
    }
   ],
   "source": [
    "df.describe()"
   ]
  },
  {
   "cell_type": "code",
   "execution_count": 7,
   "metadata": {
    "collapsed": true
   },
   "outputs": [],
   "source": [
    "test_set = df.groupby(['category', 'color']).apply(lambda x: x.sample(frac=0.01)).reset_index(drop=True)\n",
    "val_set = df.groupby(['category', 'color']).apply(lambda x: x.sample(frac=0.01)).reset_index(drop=True)\n",
    "train_set = df[(~df.id.isin(test_set.id.unique())) & (~df.id.isin(val_set.id.unique()))]"
   ]
  },
  {
   "cell_type": "code",
   "execution_count": 8,
   "metadata": {},
   "outputs": [
    {
     "data": {
      "text/plain": [
       "(928, 15)"
      ]
     },
     "execution_count": 8,
     "metadata": {},
     "output_type": "execute_result"
    }
   ],
   "source": [
    "val_set.shape"
   ]
  },
  {
   "cell_type": "code",
   "execution_count": 9,
   "metadata": {},
   "outputs": [
    {
     "data": {
      "text/plain": [
       "(928, 15)"
      ]
     },
     "execution_count": 9,
     "metadata": {},
     "output_type": "execute_result"
    }
   ],
   "source": [
    "test_set.shape"
   ]
  },
  {
   "cell_type": "code",
   "execution_count": 10,
   "metadata": {},
   "outputs": [
    {
     "data": {
      "text/plain": [
       "(90373, 15)"
      ]
     },
     "execution_count": 10,
     "metadata": {},
     "output_type": "execute_result"
    }
   ],
   "source": [
    "train_set.shape"
   ]
  },
  {
   "cell_type": "code",
   "execution_count": 11,
   "metadata": {
    "collapsed": true
   },
   "outputs": [],
   "source": [
    "test_set.img_path.to_csv('../../../data/fashion/test_imgs.csv', index=False)\n",
    "val_set.img_path.to_csv('../../../data/fashion/val_imgs.csv', index=False)\n",
    "train_set.img_path.to_csv('../../../data/fashion/train_imgs.csv', index=False)"
   ]
  },
  {
   "cell_type": "code",
   "execution_count": null,
   "metadata": {
    "collapsed": true
   },
   "outputs": [],
   "source": []
  }
 ],
 "metadata": {
  "kernelspec": {
   "display_name": "Python 3",
   "language": "python",
   "name": "python3"
  },
  "language_info": {
   "codemirror_mode": {
    "name": "ipython",
    "version": 3
   },
   "file_extension": ".py",
   "mimetype": "text/x-python",
   "name": "python",
   "nbconvert_exporter": "python",
   "pygments_lexer": "ipython3",
   "version": "3.6.3"
  }
 },
 "nbformat": 4,
 "nbformat_minor": 2
}
