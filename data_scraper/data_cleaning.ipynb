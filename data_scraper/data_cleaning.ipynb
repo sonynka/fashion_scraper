{
 "cells": [
  {
   "cell_type": "code",
   "execution_count": 2,
   "metadata": {
    "collapsed": true,
    "scrolled": true
   },
   "outputs": [],
   "source": [
    "import pandas as pd\n",
    "import os\n",
    "import glob"
   ]
  },
  {
   "cell_type": "code",
   "execution_count": 3,
   "metadata": {
    "collapsed": true,
    "scrolled": true
   },
   "outputs": [],
   "source": [
    "data_path = '/Users/sonynka/HTW/IC/data/aboutyou_paging/'"
   ]
  },
  {
   "cell_type": "code",
   "execution_count": 5,
   "metadata": {},
   "outputs": [],
   "source": [
    "df = pd.read_csv(os.path.join(data_path, 'data.csv'), sep=';')"
   ]
  },
  {
   "cell_type": "code",
   "execution_count": 6,
   "metadata": {},
   "outputs": [
    {
     "data": {
      "text/html": [
       "<div>\n",
       "<style>\n",
       "    .dataframe thead tr:only-child th {\n",
       "        text-align: right;\n",
       "    }\n",
       "\n",
       "    .dataframe thead th {\n",
       "        text-align: left;\n",
       "    }\n",
       "\n",
       "    .dataframe tbody tr th {\n",
       "        vertical-align: top;\n",
       "    }\n",
       "</style>\n",
       "<table border=\"1\" class=\"dataframe\">\n",
       "  <thead>\n",
       "    <tr style=\"text-align: right;\">\n",
       "      <th></th>\n",
       "      <th>attributes</th>\n",
       "      <th>category</th>\n",
       "      <th>color</th>\n",
       "      <th>img_path</th>\n",
       "      <th>img_url</th>\n",
       "      <th>product_name</th>\n",
       "    </tr>\n",
       "  </thead>\n",
       "  <tbody>\n",
       "    <tr>\n",
       "      <th>0</th>\n",
       "      <td>Spaghettiträger,Rundhals-Ausschnitt,Gerader Sc...</td>\n",
       "      <td>kleider</td>\n",
       "      <td>black</td>\n",
       "      <td>kleider/b2e9d38cbcabc6c0e797c7bcc3270262.jpg</td>\n",
       "      <td>https://cdn.aboutstatic.com/file/b2e9d38cbcabc...</td>\n",
       "      <td>Noisy may | Maxikleid</td>\n",
       "    </tr>\n",
       "    <tr>\n",
       "      <th>1</th>\n",
       "      <td>Gerader Schnitt,Schulterfrei/Off-Shoulder,Unif...</td>\n",
       "      <td>kleider</td>\n",
       "      <td>black</td>\n",
       "      <td>kleider/e008ac2d5e5193e29700f280fc82a244.jpg</td>\n",
       "      <td>https://cdn.aboutstatic.com/file/e008ac2d5e519...</td>\n",
       "      <td>Noisy may | Kleid</td>\n",
       "    </tr>\n",
       "    <tr>\n",
       "      <th>2</th>\n",
       "      <td>Viskose,Beinschlitz,Knopfleiste,Taillengürtel,...</td>\n",
       "      <td>kleider</td>\n",
       "      <td>black</td>\n",
       "      <td>kleider/2566a0c32ed54761c0f2f6d32b2f3e87.jpg</td>\n",
       "      <td>https://cdn.aboutstatic.com/file/2566a0c32ed54...</td>\n",
       "      <td>VERO MODA | Kleid</td>\n",
       "    </tr>\n",
       "    <tr>\n",
       "      <th>3</th>\n",
       "      <td>V-Ausschnitt,Ausgestellter Schnitt,Trompetenär...</td>\n",
       "      <td>kleider</td>\n",
       "      <td>black</td>\n",
       "      <td>kleider/7a48d05c3dae12657b82e6ef45a6959f.jpg</td>\n",
       "      <td>https://cdn.aboutstatic.com/file/7a48d05c3dae1...</td>\n",
       "      <td>GAP | Kleid 'BELL'</td>\n",
       "    </tr>\n",
       "    <tr>\n",
       "      <th>4</th>\n",
       "      <td>Jersey,Rundhals-Ausschnitt,Abgesteppter Saum/K...</td>\n",
       "      <td>kleider</td>\n",
       "      <td>black</td>\n",
       "      <td>kleider/ff93ce38fcf715c7fafbf98865a4e3f5.jpg</td>\n",
       "      <td>https://cdn.aboutstatic.com/file/ff93ce38fcf71...</td>\n",
       "      <td>MOSS COPENHAGEN | Kleid 'Alvidera'</td>\n",
       "    </tr>\n",
       "  </tbody>\n",
       "</table>\n",
       "</div>"
      ],
      "text/plain": [
       "                                          attributes category  color  \\\n",
       "0  Spaghettiträger,Rundhals-Ausschnitt,Gerader Sc...  kleider  black   \n",
       "1  Gerader Schnitt,Schulterfrei/Off-Shoulder,Unif...  kleider  black   \n",
       "2  Viskose,Beinschlitz,Knopfleiste,Taillengürtel,...  kleider  black   \n",
       "3  V-Ausschnitt,Ausgestellter Schnitt,Trompetenär...  kleider  black   \n",
       "4  Jersey,Rundhals-Ausschnitt,Abgesteppter Saum/K...  kleider  black   \n",
       "\n",
       "                                       img_path  \\\n",
       "0  kleider/b2e9d38cbcabc6c0e797c7bcc3270262.jpg   \n",
       "1  kleider/e008ac2d5e5193e29700f280fc82a244.jpg   \n",
       "2  kleider/2566a0c32ed54761c0f2f6d32b2f3e87.jpg   \n",
       "3  kleider/7a48d05c3dae12657b82e6ef45a6959f.jpg   \n",
       "4  kleider/ff93ce38fcf715c7fafbf98865a4e3f5.jpg   \n",
       "\n",
       "                                             img_url  \\\n",
       "0  https://cdn.aboutstatic.com/file/b2e9d38cbcabc...   \n",
       "1  https://cdn.aboutstatic.com/file/e008ac2d5e519...   \n",
       "2  https://cdn.aboutstatic.com/file/2566a0c32ed54...   \n",
       "3  https://cdn.aboutstatic.com/file/7a48d05c3dae1...   \n",
       "4  https://cdn.aboutstatic.com/file/ff93ce38fcf71...   \n",
       "\n",
       "                         product_name  \n",
       "0               Noisy may | Maxikleid  \n",
       "1                   Noisy may | Kleid  \n",
       "2                   VERO MODA | Kleid  \n",
       "3                  GAP | Kleid 'BELL'  \n",
       "4  MOSS COPENHAGEN | Kleid 'Alvidera'  "
      ]
     },
     "execution_count": 6,
     "metadata": {},
     "output_type": "execute_result"
    }
   ],
   "source": [
    "df.head()"
   ]
  },
  {
   "cell_type": "code",
   "execution_count": 9,
   "metadata": {},
   "outputs": [
    {
     "name": "stdout",
     "output_type": "stream",
     "text": [
      "Data points 43403\n",
      "category\n",
      "blusen-und-tuniken        5528\n",
      "hosen                     2910\n",
      "jacken                    4474\n",
      "jeans                     3378\n",
      "jumpsuits-und-overalls     556\n",
      "kleider                   6984\n",
      "roecke                    1402\n",
      "shirts                    9735\n",
      "strick                    5883\n",
      "tops                      2553\n",
      "Name: img_path, dtype: int64\n"
     ]
    }
   ],
   "source": [
    "print('Data points', df.shape[0])\n",
    "print(df.groupby('category')['img_path'].count())"
   ]
  },
  {
   "cell_type": "markdown",
   "metadata": {},
   "source": [
    "# Clean data\n",
    "## Remove Duplicates"
   ]
  },
  {
   "cell_type": "markdown",
   "metadata": {},
   "source": [
    "Drop duplicated rows which could occured during scraping data and appending to csvs.\n",
    "\n",
    "If the count of img_path is more than unique, drop the duplicated img_path. This can occurr, if the same image is assigned to two different colors. In that case, just keep the first color.\n",
    "\n",
    "*Note: We apply this to img_path, since it is acceptable that img_url is duplicated -> one image can be assigned to two different subcategories, such as Kurze Kleider und Cocktailkleider. If one image should only have one subcategory assigned, duplicated should be dropped on img_url not on img_path.*"
   ]
  },
  {
   "cell_type": "code",
   "execution_count": 16,
   "metadata": {},
   "outputs": [
    {
     "name": "stdout",
     "output_type": "stream",
     "text": [
      "Shape (43403, 7)\n",
      "Without duplicates (43403, 7)\n"
     ]
    }
   ],
   "source": [
    "print('Shape', df.shape)\n",
    "print('Without duplicates', df.drop_duplicates().shape)"
   ]
  },
  {
   "cell_type": "markdown",
   "metadata": {},
   "source": [
    "## Check images and CSVs consistency\n",
    "### CSV -> image path check\n",
    "Make sure all the image paths in the csvs actually exist in the folder structure."
   ]
  },
  {
   "cell_type": "code",
   "execution_count": 15,
   "metadata": {},
   "outputs": [
    {
     "data": {
      "text/plain": [
       "0"
      ]
     },
     "execution_count": 15,
     "metadata": {},
     "output_type": "execute_result"
    }
   ],
   "source": [
    "df['exists'] = [True if os.path.exists(os.path.join(data_path, x)) else False for x in df['img_path']]\n",
    "not_exist_imgs_count = df[df['exists'] == False].shape[0]\n",
    "print('Not existing images', not_exist_imgs_count)"
   ]
  },
  {
   "cell_type": "code",
   "execution_count": 17,
   "metadata": {
    "collapsed": true
   },
   "outputs": [],
   "source": [
    "df = df.drop('exists', axis=1)"
   ]
  },
  {
   "cell_type": "markdown",
   "metadata": {},
   "source": [
    "### image path -> CSV check\n",
    "Make sure all the images in the folders have an entry in the csv."
   ]
  },
  {
   "cell_type": "code",
   "execution_count": 21,
   "metadata": {},
   "outputs": [
    {
     "name": "stdout",
     "output_type": "stream",
     "text": [
      "jumpsuits-und-overalls\n",
      "Diff 0\n",
      "jacken\n",
      "Diff 0\n",
      "tops\n",
      "Diff 0\n",
      "strick\n",
      "Diff 0\n",
      "blusen-und-tuniken\n",
      "Diff 0\n",
      "shirts\n",
      "Diff 0\n",
      "jeans\n",
      "Diff 0\n",
      "roecke\n",
      "Diff 0\n",
      "kleider\n",
      "Diff 0\n",
      "hosen\n",
      "Diff 0\n"
     ]
    }
   ],
   "source": [
    "for category in os.listdir(data_path):\n",
    "    \n",
    "    category_path = os.path.join(data_path, category)\n",
    "    if os.path.isdir(category_path):\n",
    "        print(category)\n",
    "        img_names = [os.path.join(category, o) for o in os.listdir(category_path)]\n",
    "        row_names = df[df['category'] == category]['img_path']\n",
    "        diff_imgs = list(set(img_names).difference(row_names))\n",
    "        print('Diff', len(diff_imgs))\n",
    "    "
   ]
  }
 ],
 "metadata": {
  "kernelspec": {
   "display_name": "Python 3",
   "language": "python",
   "name": "python3"
  },
  "language_info": {
   "codemirror_mode": {
    "name": "ipython",
    "version": 3
   },
   "file_extension": ".py",
   "mimetype": "text/x-python",
   "name": "python",
   "nbconvert_exporter": "python",
   "pygments_lexer": "ipython3",
   "version": "3.6.3"
  }
 },
 "nbformat": 4,
 "nbformat_minor": 2
}
