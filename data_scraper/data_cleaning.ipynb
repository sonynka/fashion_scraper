{
 "cells": [
  {
   "cell_type": "code",
   "execution_count": 1,
   "metadata": {
    "collapsed": true,
    "scrolled": true
   },
   "outputs": [],
   "source": [
    "import pandas as pd\n",
    "import os\n",
    "import glob"
   ]
  },
  {
   "cell_type": "code",
   "execution_count": 2,
   "metadata": {
    "collapsed": true,
    "scrolled": true
   },
   "outputs": [],
   "source": [
    "data_path = '/Users/sonynka/HTW/IC/data/aboutyou/'"
   ]
  },
  {
   "cell_type": "markdown",
   "metadata": {},
   "source": [
    "# Merge data\n",
    "Merge all subcategories in a given category into a category.csv."
   ]
  },
  {
   "cell_type": "code",
   "execution_count": 3,
   "metadata": {
    "collapsed": true
   },
   "outputs": [],
   "source": [
    "def merge_csv_data(path, csv_save_path):\n",
    "    \"\"\" Find all csvs in the category's subfolders and merge them to one csv file in the data_path \"\"\"\n",
    "    \n",
    "    # for each subfolder in category (subcagetogry) merge all csv files into one data_path/category.csv\n",
    "    if os.path.isdir(path):\n",
    "        csv_files = glob.glob(os.path.join(path, '*.csv'))\n",
    "        df = pd.DataFrame()\n",
    "        for file in csv_files:\n",
    "            df_file = pd.read_csv(file, sep=';', encoding='utf-8')\n",
    "            df = df.append(df_file)\n",
    "        \n",
    "        df.to_csv(csv_save_path, sep=';', encoding='utf-8', index=False)"
   ]
  },
  {
   "cell_type": "code",
   "execution_count": 4,
   "metadata": {
    "collapsed": true
   },
   "outputs": [],
   "source": [
    "for category in os.listdir(data_path):\n",
    "    category_path = os.path.join(data_path, category)\n",
    "    save_path = os.path.join(data_path, category + '.csv')\n",
    "    merge_csv_data(category_path, save_path)"
   ]
  },
  {
   "cell_type": "markdown",
   "metadata": {},
   "source": [
    "# Clean data\n",
    "## Remove Duplicates"
   ]
  },
  {
   "cell_type": "markdown",
   "metadata": {},
   "source": [
    "Drop duplicated rows which could occured during scraping data and appending to csvs.\n",
    "\n",
    "If the count of img_path is more than unique, drop the duplicated img_path. This can occurr, if the same image is assigned to two different colors. In that case, just keep the first color.\n",
    "\n",
    "*Note: We apply this to img_path, since it is acceptable that img_url is duplicated -> one image can be assigned to two different subcategories, such as Kurze Kleider und Cocktailkleider. If one image should only have one subcategory assigned, duplicated should be dropped on img_url not on img_path.*"
   ]
  },
  {
   "cell_type": "code",
   "execution_count": 5,
   "metadata": {
    "collapsed": true
   },
   "outputs": [],
   "source": [
    "def remove_duplicates(df):\n",
    "    \n",
    "    # drop duplicated rows\n",
    "    print('REMOVING DUPLICATES')\n",
    "    print('Shape', df.shape)\n",
    "    df_clean = df.drop_duplicates()\n",
    "    print('Without duplicates', df_clean.shape)\n",
    "    df_clean.describe()\n",
    "    \n",
    "    return df_clean"
   ]
  },
  {
   "cell_type": "markdown",
   "metadata": {},
   "source": [
    "## Check images and CSVs consistency\n",
    "### CSV -> image path check\n",
    "Make sure all the image paths in the csvs actually exist in the folder structure."
   ]
  },
  {
   "cell_type": "code",
   "execution_count": 6,
   "metadata": {
    "collapsed": true
   },
   "outputs": [],
   "source": [
    "def check_csv_consistency(df):\n",
    "    \"\"\" Check if all the image paths in the csv actually exist in the folder structure \"\"\"\n",
    "        \n",
    "    print('CHECKING CSV CONSISTENCY')\n",
    "    df['exists'] = [True if os.path.exists(x) else False for x in df['img_path']]\n",
    "    not_exist_imgs_count = df[df['exists'] == False].shape[0]\n",
    "\n",
    "    print('Not existing images included in CSV: ', not_exist_imgs_count)\n",
    "    \n",
    "    if not_exist_imgs_count > 0:\n",
    "        print('Deleting not-existing images from csv...')\n",
    "        df = df[df['exists'] == True]\n",
    "    df = df.drop('exists', axis=1)\n",
    "\n",
    "    return df"
   ]
  },
  {
   "cell_type": "markdown",
   "metadata": {},
   "source": [
    "### image path -> CSV check\n",
    "Make sure all the images in the folders have an entry in the csv."
   ]
  },
  {
   "cell_type": "code",
   "execution_count": 7,
   "metadata": {
    "collapsed": true
   },
   "outputs": [],
   "source": [
    "def check_img_consistency(category, df_category):\n",
    "    \"\"\" Check if all the existing images in the folder structure are included in the csv \"\"\"\n",
    "    \n",
    "    print('CHECKING IMAGE CONSISTENCY')\n",
    "    for subcategory in os.listdir(os.path.join(data_path, category)):\n",
    "        \n",
    "        subcategory_path = os.path.join(data_path, category, subcategory)\n",
    "        \n",
    "        if os.path.isdir(subcategory_path):\n",
    "            img_names = [os.path.join(subcategory_path, o) for o in os.listdir(subcategory_path)]\n",
    "            row_names = df_category[df_category['subcategory'] == subcategory]['img_path']\n",
    "            diff_imgs = list(set(img_names).difference(row_names))\n",
    "\n",
    "            # if more images in folders than in the csv\n",
    "            if len(diff_imgs) > 0:\n",
    "                print('Found non-matching images', diff_imgs)\n",
    "\n",
    "                # ask user if non-matching images should be deleted\n",
    "                while True:\n",
    "                    delete_imgs = input('Delete non-matching images? (yes/no): ')\n",
    "                    if delete_imgs == 'yes':\n",
    "                        for img_path in diff_imgs:\n",
    "                            os.remove(img_path)\n",
    "                        imgs_count = len(os.listdir(subcategory_path))\n",
    "                        print('Deleted non-matching images')\n",
    "                        break\n",
    "                    if delete_imgs == 'no':\n",
    "                        print('Not deleting images')\n",
    "                        break\n",
    "            else:\n",
    "                print('Subcategory {} OK'.format(subcategory))"
   ]
  },
  {
   "cell_type": "code",
   "execution_count": 8,
   "metadata": {},
   "outputs": [
    {
     "name": "stdout",
     "output_type": "stream",
     "text": [
      "\n",
      "Cleaning data for category jumpsuits & overalls\n",
      "--------------------------------------------------\n",
      "REMOVING DUPLICATES\n",
      "Shape (476, 7)\n",
      "Without duplicates (476, 7)\n",
      "CHECKING CSV CONSISTENCY\n",
      "Not existing images included in CSV:  0\n",
      "CHECKING IMAGE CONSISTENCY\n",
      "Subcategory kurze jumpsuits OK\n",
      "Subcategory lange jumpsuits OK\n",
      "Writing clean data to /Users/sonynka/HTW/IC/data/aboutyou/jumpsuits & overalls.csv\n",
      "\n",
      "Cleaning data for category jacken\n",
      "--------------------------------------------------\n",
      "REMOVING DUPLICATES\n",
      "Shape (3610, 7)\n",
      "Without duplicates (3610, 7)\n",
      "CHECKING CSV CONSISTENCY\n",
      "Not existing images included in CSV:  0\n",
      "CHECKING IMAGE CONSISTENCY\n",
      "Subcategory übergangsjacken OK\n",
      "Subcategory winterjacken OK\n",
      "Subcategory bomberjacken OK\n",
      "Subcategory jeansjacken OK\n",
      "Subcategory steppjacken OK\n",
      "Subcategory cargojacken OK\n",
      "Subcategory lederjacken OK\n",
      "Subcategory regenjacken OK\n",
      "Subcategory blousons OK\n",
      "Subcategory daunenjacken OK\n",
      "Subcategory parka OK\n",
      "Subcategory outdoorjacken OK\n",
      "Writing clean data to /Users/sonynka/HTW/IC/data/aboutyou/jacken.csv\n",
      "\n",
      "Cleaning data for category strick\n",
      "--------------------------------------------------\n",
      "REMOVING DUPLICATES\n",
      "Shape (3845, 7)\n",
      "Without duplicates (2423, 7)\n",
      "CHECKING CSV CONSISTENCY\n"
     ]
    },
    {
     "name": "stderr",
     "output_type": "stream",
     "text": [
      "/Users/sonynka/anaconda/lib/python3.6/site-packages/ipykernel_launcher.py:5: SettingWithCopyWarning: \n",
      "A value is trying to be set on a copy of a slice from a DataFrame.\n",
      "Try using .loc[row_indexer,col_indexer] = value instead\n",
      "\n",
      "See the caveats in the documentation: http://pandas.pydata.org/pandas-docs/stable/indexing.html#indexing-view-versus-copy\n",
      "  \"\"\"\n"
     ]
    },
    {
     "name": "stdout",
     "output_type": "stream",
     "text": [
      "Not existing images included in CSV:  0\n",
      "CHECKING IMAGE CONSISTENCY\n",
      "Subcategory boleros OK\n",
      "Subcategory strickjacken OK\n",
      "Subcategory grobstrickpullover OK\n",
      "Subcategory feinstrickpullover OK\n",
      "Writing clean data to /Users/sonynka/HTW/IC/data/aboutyou/strick.csv\n",
      "\n",
      "Cleaning data for category jeans\n",
      "--------------------------------------------------\n",
      "REMOVING DUPLICATES\n",
      "Shape (1321, 7)\n",
      "Without duplicates (1321, 7)\n",
      "CHECKING CSV CONSISTENCY\n",
      "Not existing images included in CSV:  0\n",
      "CHECKING IMAGE CONSISTENCY\n",
      "Subcategory straight leg OK\n",
      "Subcategory latzhosen OK\n",
      "Subcategory bootcut OK\n",
      "Subcategory boyfriend OK\n",
      "Subcategory slim fit OK\n",
      "Subcategory jeggings OK\n",
      "Subcategory jeans shorts OK\n",
      "Writing clean data to /Users/sonynka/HTW/IC/data/aboutyou/jeans.csv\n",
      "\n",
      "Cleaning data for category blusen & tuniken\n",
      "--------------------------------------------------\n",
      "REMOVING DUPLICATES\n",
      "Shape (4301, 7)\n",
      "Without duplicates (4301, 7)\n",
      "CHECKING CSV CONSISTENCY\n",
      "Not existing images included in CSV:  0\n",
      "CHECKING IMAGE CONSISTENCY\n",
      "Subcategory hemdblusen OK\n",
      "Subcategory chiffonblusen OK\n",
      "Subcategory karohemden OK\n",
      "Subcategory blusenshirts OK\n",
      "Subcategory unifarbene blusen OK\n",
      "Subcategory jeanshemden OK\n",
      "Subcategory seidenblusen & -tuniken OK\n",
      "Subcategory longblusen OK\n",
      "Subcategory gemusterte blusen OK\n",
      "Subcategory spitzenblusen OK\n",
      "Subcategory tuniken OK\n",
      "Subcategory blusentops OK\n",
      "Writing clean data to /Users/sonynka/HTW/IC/data/aboutyou/blusen & tuniken.csv\n",
      "\n",
      "Cleaning data for category kleider\n",
      "--------------------------------------------------\n",
      "REMOVING DUPLICATES\n",
      "Shape (5429, 7)\n",
      "Without duplicates (5429, 7)\n",
      "CHECKING CSV CONSISTENCY\n",
      "Not existing images included in CSV:  0\n",
      "CHECKING IMAGE CONSISTENCY\n",
      "Subcategory etuikleider OK\n",
      "Subcategory maxikleider OK\n",
      "Subcategory jerseykleider OK\n",
      "Subcategory cocktailkleider OK\n",
      "Subcategory strickkleider OK\n",
      "Subcategory spitzenkleider OK\n",
      "Subcategory sommerkleider OK\n",
      "Subcategory midikleider OK\n",
      "Subcategory brautkleider OK\n",
      "Subcategory abendkleider OK\n",
      "Subcategory minikleider OK\n",
      "Subcategory blusenkleider OK\n",
      "Writing clean data to /Users/sonynka/HTW/IC/data/aboutyou/kleider.csv\n",
      "\n",
      "Cleaning data for category röcke\n",
      "--------------------------------------------------\n",
      "REMOVING DUPLICATES\n",
      "Shape (1004, 7)\n",
      "Without duplicates (1004, 7)\n",
      "CHECKING CSV CONSISTENCY\n",
      "Not existing images included in CSV:  0\n",
      "CHECKING IMAGE CONSISTENCY\n",
      "Subcategory lederröcke OK\n",
      "Subcategory midiröcke OK\n",
      "Subcategory jeansröcke OK\n",
      "Subcategory maxiröcke OK\n",
      "Subcategory miniröcke OK\n",
      "Writing clean data to /Users/sonynka/HTW/IC/data/aboutyou/röcke.csv\n",
      "\n",
      "Cleaning data for category hosen\n",
      "--------------------------------------------------\n",
      "REMOVING DUPLICATES\n",
      "Shape (2212, 7)\n",
      "Without duplicates (2212, 7)\n",
      "CHECKING CSV CONSISTENCY\n",
      "Not existing images included in CSV:  0\n",
      "CHECKING IMAGE CONSISTENCY\n",
      "Subcategory haremshosen OK\n",
      "Subcategory sweatpants OK\n",
      "Subcategory lederhosen OK\n",
      "Subcategory stoffhosen OK\n",
      "Subcategory 3-4 hosen OK\n",
      "Subcategory cargohosen OK\n",
      "Subcategory shorts OK\n",
      "Subcategory leggings OK\n",
      "Subcategory cordhosen OK\n",
      "Subcategory bundfaltenhosen OK\n",
      "Subcategory marlenehosen OK\n",
      "Subcategory chinos OK\n",
      "Writing clean data to /Users/sonynka/HTW/IC/data/aboutyou/hosen.csv\n"
     ]
    }
   ],
   "source": [
    "for category in os.listdir(data_path):\n",
    "    if os.path.isdir(os.path.join(data_path, category)):\n",
    "        print('\\nCleaning data for category', category)\n",
    "        print('-' * 50)\n",
    "        df_category = pd.read_csv(os.path.join(data_path, category + '.csv'), sep=';', encoding='utf-8')\n",
    "\n",
    "        df_clean = remove_duplicates(df_category)\n",
    "        df_consistent = check_csv_consistency(df_clean)\n",
    "        check_img_consistency(category, df_consistent)\n",
    "\n",
    "        print('Writing clean data to', os.path.join(data_path, category + '.csv'))\n",
    "        df_consistent.to_csv(os.path.join(data_path, category + '.csv'), sep=';', encoding='utf-8', index=False)"
   ]
  },
  {
   "cell_type": "markdown",
   "metadata": {},
   "source": [
    "# Merge all data\n",
    "Merge all category csv into once csv -> aboutyou.csv"
   ]
  },
  {
   "cell_type": "code",
   "execution_count": 9,
   "metadata": {
    "collapsed": true
   },
   "outputs": [],
   "source": [
    "merge_csv_data(data_path, '/Users/sonynka/HTW/IC/data/aboutyou.csv')"
   ]
  },
  {
   "cell_type": "code",
   "execution_count": null,
   "metadata": {
    "collapsed": true
   },
   "outputs": [],
   "source": []
  }
 ],
 "metadata": {
  "kernelspec": {
   "display_name": "Python 3",
   "language": "python",
   "name": "python3"
  },
  "language_info": {
   "codemirror_mode": {
    "name": "ipython",
    "version": 3
   },
   "file_extension": ".py",
   "mimetype": "text/x-python",
   "name": "python",
   "nbconvert_exporter": "python",
   "pygments_lexer": "ipython3",
   "version": "3.6.3"
  }
 },
 "nbformat": 4,
 "nbformat_minor": 2
}
