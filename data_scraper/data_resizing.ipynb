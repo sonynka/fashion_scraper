{
 "cells": [
  {
   "cell_type": "code",
   "execution_count": 1,
   "metadata": {
    "collapsed": true
   },
   "outputs": [],
   "source": [
    "from PIL import Image, ImageOps\n",
    "import os\n",
    "import numpy as np"
   ]
  },
  {
   "cell_type": "code",
   "execution_count": 2,
   "metadata": {
    "collapsed": true
   },
   "outputs": [],
   "source": [
    "data = '/Users/sonynka/HTW/IC/Projects/StarGAN/data/aboutyou/'"
   ]
  },
  {
   "cell_type": "code",
   "execution_count": null,
   "metadata": {
    "collapsed": true
   },
   "outputs": [],
   "source": [
    "def pad_image(img):\n",
    "\n",
    "    width, height = img.size\n",
    "    \n",
    "    max_size = max(width, height)\n",
    "    \n",
    "    pad_height = max_size - height\n",
    "    pad_width = max_size - width\n",
    "        \n",
    "    padding = (pad_width // 2, \n",
    "               pad_height // 2, \n",
    "               pad_width - (pad_width // 2), \n",
    "               pad_height - (pad_height // 2))\n",
    "        \n",
    "    padded_img = ImageOps.expand(img, padding, fill=(255,255,255))\n",
    "    return padded_img"
   ]
  },
  {
   "cell_type": "code",
   "execution_count": null,
   "metadata": {
    "collapsed": true
   },
   "outputs": [],
   "source": [
    "def remove_alpha(img):\n",
    "    \n",
    "    if img.mode == 'RGBA':\n",
    "\n",
    "        img.load()  # required for png.split()\n",
    "        image_jpeg = Image.new(\"RGB\", img.size, (255, 255, 255))\n",
    "        image_jpeg.paste(img, mask=img.split()[3])  # 3 is the alpha channel\n",
    "        img = image_jpeg\n",
    "        \n",
    "    return img"
   ]
  },
  {
   "cell_type": "code",
   "execution_count": null,
   "metadata": {
    "collapsed": true
   },
   "outputs": [],
   "source": [
    "def resize_image(img, size):\n",
    "    return img.resize(size, Image.ANTIALIAS)"
   ]
  },
  {
   "cell_type": "code",
   "execution_count": null,
   "metadata": {
    "collapsed": true
   },
   "outputs": [],
   "source": [
    "for dirpath, dirnames, filenames in os.walk(data):\n",
    "    \n",
    "    images = [f for f in filenames if f.endswith(\".jpg\")]\n",
    "    print('Directory: {}'.format(dirpath, len(images)))\n",
    "    \n",
    "    for filename in images:\n",
    "        \n",
    "        try:\n",
    "        \n",
    "            img_path = os.path.join(dirpath, filename)\n",
    "            img = Image.open(img_path)\n",
    "            \n",
    "            if img.size == (256, 256):\n",
    "                continue\n",
    "            else:\n",
    "                img = remove_alpha(img)\n",
    "                img = pad_image(img)\n",
    "                img = resize_image(img, size=[256,256])\n",
    "\n",
    "                img.save(img_path)\n",
    "            \n",
    "        except Exception as e:\n",
    "            print(filename, e)"
   ]
  },
  {
   "cell_type": "code",
   "execution_count": null,
   "metadata": {},
   "outputs": [],
   "source": [
    "for dirpath, dirnames, filenames in os.walk(data):\n",
    "    \n",
    "    images = [f for f in filenames if f.endswith(\".jpg\")]\n",
    "    print('Directory: {}'.format(dirpath, len(images)))\n",
    "    \n",
    "    for filename in images:\n",
    "        \n",
    "        try:\n",
    "        \n",
    "            img_path = os.path.join(dirpath, filename)\n",
    "            img = Image.open(img_path)\n",
    "            data = np.asarray(img)\n",
    "            \n",
    "            if data.shape != (256, 256, 3):\n",
    "                print(filename, data.shape)\n",
    "                data_RGB = np.repeat(data[:, :, np.newaxis], 3, axis=2)\n",
    "                print(data_RGB.shape)\n",
    "                img_RGB = Image.fromarray(data_RGB)\n",
    "                img_RGB.save(img_path)\n",
    "                \n",
    "            \n",
    "        except Exception as e:\n",
    "            print(filename, e)"
   ]
  },
  {
   "cell_type": "code",
   "execution_count": 7,
   "metadata": {},
   "outputs": [],
   "source": [
    "image = Image.open('/Users/sonynka/HTW/IC/Projects/StarGAN/data/aboutyou/kleider/etuikleider/301837766e44999fd1f45510a432e2a1.jpg')"
   ]
  },
  {
   "cell_type": "code",
   "execution_count": 8,
   "metadata": {
    "collapsed": true
   },
   "outputs": [],
   "source": [
    "image.show()"
   ]
  },
  {
   "cell_type": "code",
   "execution_count": null,
   "metadata": {
    "collapsed": true
   },
   "outputs": [],
   "source": []
  }
 ],
 "metadata": {
  "kernelspec": {
   "display_name": "Python 3",
   "language": "python",
   "name": "python3"
  },
  "language_info": {
   "codemirror_mode": {
    "name": "ipython",
    "version": 3
   },
   "file_extension": ".py",
   "mimetype": "text/x-python",
   "name": "python",
   "nbconvert_exporter": "python",
   "pygments_lexer": "ipython3",
   "version": "3.6.3"
  }
 },
 "nbformat": 4,
 "nbformat_minor": 2
}
